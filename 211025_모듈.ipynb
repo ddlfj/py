{
  "nbformat": 4,
  "nbformat_minor": 0,
  "metadata": {
    "colab": {
      "name": "211025_모듈.ipynb",
      "provenance": [],
      "authorship_tag": "ABX9TyOtbPNMI+OiyKSBgMkfH+9R",
      "include_colab_link": true
    },
    "kernelspec": {
      "name": "python3",
      "display_name": "Python 3"
    },
    "language_info": {
      "name": "python"
    }
  },
  "cells": [
    {
      "cell_type": "markdown",
      "metadata": {
        "id": "view-in-github",
        "colab_type": "text"
      },
      "source": [
        "<a href=\"https://colab.research.google.com/github/ddlfj/py/blob/main/211025_%EB%AA%A8%EB%93%88.ipynb\" target=\"_parent\"><img src=\"https://colab.research.google.com/assets/colab-badge.svg\" alt=\"Open In Colab\"/></a>"
      ]
    },
    {
      "cell_type": "markdown",
      "metadata": {
        "id": "ICRaJN_m8aAA"
      },
      "source": [
        "### **학습목표**\n",
        "1. 모듈의 이해 및 모듈을 import하기\n"
      ]
    },
    {
      "cell_type": "markdown",
      "metadata": {
        "id": "09FX9QlU8-Pv"
      },
      "source": [
        "###**모듈**\n",
        "- 다양한 기능들이 미리 함수로 구현되어 모듈 형태로 제공"
      ]
    },
    {
      "cell_type": "code",
      "metadata": {
        "colab": {
          "base_uri": "https://localhost:8080/"
        },
        "id": "43Bb8q3M9JOA",
        "outputId": "bf5b2828-d9ae-4868-df34-dae9668d15ea"
      },
      "source": [
        "import math\n",
        "\n",
        "pipi = math.pi\n",
        "fact = math.factorial(5) #5!\n",
        "root = math.sqrt(25)\n",
        "print(pipi)\n",
        "print(fact)\n",
        "print(root)"
      ],
      "execution_count": 6,
      "outputs": [
        {
          "output_type": "stream",
          "name": "stdout",
          "text": [
            "3.141592653589793\n",
            "120\n",
            "5.0\n"
          ]
        }
      ]
    },
    {
      "cell_type": "code",
      "metadata": {
        "colab": {
          "base_uri": "https://localhost:8080/"
        },
        "id": "xrr8iuVq9W7l",
        "outputId": "b7ec2c1a-71e5-451b-cbc9-9086eeee8821"
      },
      "source": [
        "import random\n",
        "\n",
        "print('주사위값: ', random.randint(1,6))\n",
        "print('주사위값: ', random.randrange(7))\n",
        "rps = ['가위','바위','보']\n",
        "print('가위바위보: ', random.choice(rps))\n",
        "\n",
        "order = [1,2,3,4,5,6,7,8,9]\n",
        "print(random.shuffle(order))\n"
      ],
      "execution_count": 9,
      "outputs": [
        {
          "output_type": "stream",
          "name": "stdout",
          "text": [
            "주사위값:  6\n",
            "주사위값:  6\n",
            "가위바위보:  보\n",
            "None\n"
          ]
        }
      ]
    },
    {
      "cell_type": "code",
      "metadata": {
        "colab": {
          "base_uri": "https://localhost:8080/",
          "height": 262
        },
        "id": "uQ5oeR-6HRd0",
        "outputId": "f1962060-1132-4072-ba4a-c5d86a198de2"
      },
      "source": [
        "from datetime import datetime\n",
        "\n",
        "print('today: ',datetime.now)\n",
        "print('{}년 {}월 {}일'.format(today.year. today.month, today,day))\n",
        "print('{}시 {}분 {}초'.format(today.hour. today.minute, today,second))\n",
        "print('요일:', today.weekday())\n",
        "\n",
        "xmas = datetime(2021,12,25,0,0,0)\n",
        "k_sat = datetime(2023,11,9,0,0,0)\n",
        "print('xwas' ,xmas)\n",
        "\n",
        "print('고백까지 남은 디데이: ', today - xmas)\n",
        "print('수능까지 남은 디데이: ', today-k_sat)"
      ],
      "execution_count": 25,
      "outputs": [
        {
          "output_type": "stream",
          "name": "stdout",
          "text": [
            "today:  <built-in method now of type object at 0x55f8479cc700>\n"
          ]
        },
        {
          "output_type": "error",
          "ename": "NameError",
          "evalue": "ignored",
          "traceback": [
            "\u001b[0;31m---------------------------------------------------------------------------\u001b[0m",
            "\u001b[0;31mNameError\u001b[0m                                 Traceback (most recent call last)",
            "\u001b[0;32m<ipython-input-25-b68cc9c8209e>\u001b[0m in \u001b[0;36m<module>\u001b[0;34m()\u001b[0m\n\u001b[1;32m      2\u001b[0m \u001b[0;34m\u001b[0m\u001b[0m\n\u001b[1;32m      3\u001b[0m \u001b[0mprint\u001b[0m\u001b[0;34m(\u001b[0m\u001b[0;34m'today: '\u001b[0m\u001b[0;34m,\u001b[0m\u001b[0mdatetime\u001b[0m\u001b[0;34m.\u001b[0m\u001b[0mnow\u001b[0m\u001b[0;34m)\u001b[0m\u001b[0;34m\u001b[0m\u001b[0;34m\u001b[0m\u001b[0m\n\u001b[0;32m----> 4\u001b[0;31m \u001b[0mprint\u001b[0m\u001b[0;34m(\u001b[0m\u001b[0;34m'{}년 {}월 {}일'\u001b[0m\u001b[0;34m.\u001b[0m\u001b[0mformat\u001b[0m\u001b[0;34m(\u001b[0m\u001b[0mtoday\u001b[0m\u001b[0;34m.\u001b[0m\u001b[0myear\u001b[0m\u001b[0;34m.\u001b[0m \u001b[0mtoday\u001b[0m\u001b[0;34m.\u001b[0m\u001b[0mmonth\u001b[0m\u001b[0;34m,\u001b[0m \u001b[0mtoday\u001b[0m\u001b[0;34m,\u001b[0m\u001b[0mday\u001b[0m\u001b[0;34m)\u001b[0m\u001b[0;34m)\u001b[0m\u001b[0;34m\u001b[0m\u001b[0;34m\u001b[0m\u001b[0m\n\u001b[0m\u001b[1;32m      5\u001b[0m \u001b[0mprint\u001b[0m\u001b[0;34m(\u001b[0m\u001b[0;34m'{}시 {}분 {}초'\u001b[0m\u001b[0;34m.\u001b[0m\u001b[0mformat\u001b[0m\u001b[0;34m(\u001b[0m\u001b[0mtoday\u001b[0m\u001b[0;34m.\u001b[0m\u001b[0mhour\u001b[0m\u001b[0;34m.\u001b[0m \u001b[0mtoday\u001b[0m\u001b[0;34m.\u001b[0m\u001b[0mminute\u001b[0m\u001b[0;34m,\u001b[0m \u001b[0mtoday\u001b[0m\u001b[0;34m,\u001b[0m\u001b[0msecond\u001b[0m\u001b[0;34m)\u001b[0m\u001b[0;34m)\u001b[0m\u001b[0;34m\u001b[0m\u001b[0;34m\u001b[0m\u001b[0m\n\u001b[1;32m      6\u001b[0m \u001b[0mprint\u001b[0m\u001b[0;34m(\u001b[0m\u001b[0;34m'요일:'\u001b[0m\u001b[0;34m,\u001b[0m \u001b[0mtoday\u001b[0m\u001b[0;34m.\u001b[0m\u001b[0mweekday\u001b[0m\u001b[0;34m(\u001b[0m\u001b[0;34m)\u001b[0m\u001b[0;34m)\u001b[0m\u001b[0;34m\u001b[0m\u001b[0;34m\u001b[0m\u001b[0m\n",
            "\u001b[0;31mNameError\u001b[0m: name 'today' is not defined"
          ]
        }
      ]
    },
    {
      "cell_type": "code",
      "metadata": {
        "id": "XJ8tfYiKJbkz"
      },
      "source": [
        ""
      ],
      "execution_count": 19,
      "outputs": []
    },
    {
      "cell_type": "code",
      "metadata": {
        "id": "uleKTCb7Koxc"
      },
      "source": [
        ""
      ],
      "execution_count": null,
      "outputs": []
    }
  ]
}