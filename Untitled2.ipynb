{
  "nbformat": 4,
  "nbformat_minor": 0,
  "metadata": {
    "colab": {
      "name": "Untitled2.ipynb",
      "provenance": [],
      "authorship_tag": "ABX9TyNe705XJZ3r2IwARhn279oC",
      "include_colab_link": true
    },
    "kernelspec": {
      "name": "python3",
      "display_name": "Python 3"
    },
    "language_info": {
      "name": "python"
    }
  },
  "cells": [
    {
      "cell_type": "markdown",
      "metadata": {
        "id": "view-in-github",
        "colab_type": "text"
      },
      "source": [
        "<a href=\"https://colab.research.google.com/github/ddlfj/py/blob/main/Untitled2.ipynb\" target=\"_parent\"><img src=\"https://colab.research.google.com/assets/colab-badge.svg\" alt=\"Open In Colab\"/></a>"
      ]
    },
    {
      "cell_type": "code",
      "metadata": {
        "colab": {
          "base_uri": "https://localhost:8080/"
        },
        "id": "2Lfg-xZir4IV",
        "outputId": "a99b0876-56ed-4345-ff89-01fba594b013"
      },
      "source": [
        "#주사위 굴리는 프로그램 만들기\n",
        "import random\n",
        "#n = randon.randint(1,6) #1에서 6까지의 정수 중에서 하나를 뽑는다.\n",
        "#print(n)\n",
        "\n",
        "def game():\n",
        " n = random.randint(0,2)\n",
        " if com == 0:\n",
        "   print(\">컴퓨터: 가위\")\n",
        " elif com == 1:\n",
        "   print(\">컴퓨터: 가위\")\n",
        " else:\n",
        "   print(\">컴퓨터: 보\")\n",
        "\n",
        "#가위바위보 게임\n",
        "user = int(input(\"(0.가위,1.바위,2.보)중 하나의 숫자를 입력하세요: \"))\n",
        "com1 = game()\n",
        "#com2 = game()\n",
        "#com3 = game() \n",
        "\n",
        "\n",
        "if com == 0:\n",
        "  print(\">컴퓨터: 가위\")\n",
        "elif com == 1:\n",
        "  print(\">컴퓨터: 가위\")\n",
        "else:\n",
        "  print(\">컴퓨터: 보\")\n",
        "\n",
        "if com == user:\n",
        "  print(\"DREW!\")\n",
        "elif com == 0 and user ==1:\n",
        "   print(\"WIN!\")\n",
        "elif com == 0 and user ==2:  \n",
        "   print(\"WIN!\")\n",
        "elif com == 0 and user ==0:\n",
        "   print(\"WIN!\")\n",
        "else:\n",
        "  print(\"LOOSE!\")\n",
        "     "
      ],
      "execution_count": null,
      "outputs": [
        {
          "output_type": "stream",
          "name": "stdout",
          "text": [
            "(0.가위,1.바위,2.보)중 하나의 숫자를 입력하세요: 1\n",
            ">컴퓨터: 가위\n",
            ">컴퓨터: 가위\n",
            "DREW!\n"
          ]
        }
      ]
    },
    {
      "cell_type": "code",
      "metadata": {
        "id": "ObiAFre7vTsI"
      },
      "source": [
        ""
      ],
      "execution_count": null,
      "outputs": []
    }
  ]
}