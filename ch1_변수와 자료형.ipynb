{
  "nbformat": 4,
  "nbformat_minor": 0,
  "metadata": {
    "colab": {
      "name": "Untitled0.ipynb",
      "provenance": [],
      "collapsed_sections": [],
      "authorship_tag": "ABX9TyMAXch9wJx5gkaGBSrsSbc9",
      "include_colab_link": true
    },
    "kernelspec": {
      "name": "python3",
      "display_name": "Python 3"
    },
    "language_info": {
      "name": "python"
    }
  },
  "cells": [
    {
      "cell_type": "markdown",
      "metadata": {
        "id": "view-in-github",
        "colab_type": "text"
      },
      "source": [
        "<a href=\"https://colab.research.google.com/github/ddlfj/py/blob/main/ch1_%EB%B3%80%EC%88%98%EC%99%80%20%EC%9E%90%EB%A3%8C%ED%98%95.ipynb\" target=\"_parent\"><img src=\"https://colab.research.google.com/assets/colab-badge.svg\" alt=\"Open In Colab\"/></a>"
      ]
    },
    {
      "cell_type": "code",
      "metadata": {
        "id": "vKW9YA__XnQc"
      },
      "source": [
        "\n"
      ],
      "execution_count": null,
      "outputs": []
    },
    {
      "cell_type": "markdown",
      "metadata": {
        "id": "6U8vLdJSc1XK"
      },
      "source": [
        "# **학습목표**\n",
        "\n",
        "1.  python 언어에서 변수의 의미를 이해하기\n",
        "2.   기본 데이터 타입을 선언하기 (int, fldat, str, bool)\n",
        "\n",
        "\n"
      ]
    },
    {
      "cell_type": "markdown",
      "metadata": {
        "id": "3dLlrkXXdZPC"
      },
      "source": [
        "# **대입연산자**\n",
        "* 대입의 경우,오른쪽의 수식이나 값을 계산한 뒤,왼쪽 변수에 값을 대입\n",
        "* 변수는 해당 값을 가지게 된다."
      ]
    },
    {
      "cell_type": "code",
      "metadata": {
        "id": "ira648RIeMM4"
      },
      "source": [
        "a = 10 #int\n",
        "b = 11.4 #f loat"
      ],
      "execution_count": null,
      "outputs": []
    },
    {
      "cell_type": "code",
      "metadata": {
        "id": "cY89iDkJe0Eh"
      },
      "source": [
        ""
      ],
      "execution_count": null,
      "outputs": []
    },
    {
      "cell_type": "markdown",
      "metadata": {
        "id": "iFa5ejS6e2_b"
      },
      "source": [
        "## **주석(comment)**\n",
        " \n",
        "\n",
        "*   코드에서 #으로 시작하는 뒷부분을 실행 안함\n",
        "*   python이 실행할 떄 #만나면 무시\n",
        "*   개발자(사람)이 보기 위한 용도로 사용\n",
        "\n",
        "\n",
        "\n"
      ]
    },
    {
      "cell_type": "code",
      "metadata": {
        "id": "YnPdswLofZ08"
      },
      "source": [
        "#thus l ine is i impor tant\n",
        "#so don't delete th\n",
        "\n",
        "math = 11"
      ],
      "execution_count": null,
      "outputs": []
    },
    {
      "cell_type": "markdown",
      "metadata": {
        "id": "GxQMSaYfgIxT"
      },
      "source": [
        "### **print 함수**\n",
        " * 함수란 특정 기능을 반복적으로 \n",
        "호출하여 사용가능한 코드블럭\n",
        " * 해당 변수 값이 출력\n",
        " * ,로 여러 변수를 나열하면 한줄에 출력\n",
        " * 기본적으로는 한칸 띄어쓰기 후 출력"
      ]
    },
    {
      "cell_type": "code",
      "metadata": {
        "colab": {
          "base_uri": "https://localhost:8080/"
        },
        "id": "WjVEKP8_gwUK",
        "outputId": "5dcced16-a65d-4716-9818-4e284705ba44"
      },
      "source": [
        "print(a, b)"
      ],
      "execution_count": null,
      "outputs": [
        {
          "output_type": "stream",
          "text": [
            "10 11.4\n"
          ],
          "name": "stdout"
        }
      ]
    },
    {
      "cell_type": "code",
      "metadata": {
        "colab": {
          "base_uri": "https://localhost:8080/",
          "height": 172
        },
        "id": "_4DymG1ShHJ5",
        "outputId": "ab0ff5f2-5bd6-4fb2-f15c-d5c0f3f31109"
      },
      "source": [
        "print(math, english, 20, '하영쌤')"
      ],
      "execution_count": null,
      "outputs": [
        {
          "output_type": "error",
          "ename": "NameError",
          "evalue": "ignored",
          "traceback": [
            "\u001b[0;31m---------------------------------------------------------------------------\u001b[0m",
            "\u001b[0;31mNameError\u001b[0m                                 Traceback (most recent call last)",
            "\u001b[0;32m<ipython-input-7-581a474c8827>\u001b[0m in \u001b[0;36m<module>\u001b[0;34m()\u001b[0m\n\u001b[0;32m----> 1\u001b[0;31m \u001b[0mprint\u001b[0m\u001b[0;34m(\u001b[0m\u001b[0mmath\u001b[0m\u001b[0;34m,\u001b[0m \u001b[0menglish\u001b[0m\u001b[0;34m,\u001b[0m \u001b[0;36m20\u001b[0m\u001b[0;34m,\u001b[0m \u001b[0;34m'하영쌤'\u001b[0m\u001b[0;34m)\u001b[0m\u001b[0;34m\u001b[0m\u001b[0;34m\u001b[0m\u001b[0m\n\u001b[0m",
            "\u001b[0;31mNameError\u001b[0m: name 'math' is not defined"
          ]
        }
      ]
    },
    {
      "cell_type": "code",
      "metadata": {
        "id": "XNJnt5lBhZ-g"
      },
      "source": [
        ""
      ],
      "execution_count": null,
      "outputs": []
    },
    {
      "cell_type": "markdown",
      "metadata": {
        "id": "SF6YnPuRhpty"
      },
      "source": [
        "####  **변수 값 확인 방법**\n",
        "1. print() gkatn tkdyd\n",
        "2. 변수 값을 코드를 마지막에 워치 시킨 후 실행\n",
        " - 이 경우 output으로 변수의 값이 출력된다."
      ]
    },
    {
      "cell_type": "code",
      "metadata": {
        "colab": {
          "base_uri": "https://localhost:8080/",
          "height": 190
        },
        "id": "GRKanNzqiPs4",
        "outputId": "bac7b725-af41-4023-e91a-987de4d1051f"
      },
      "source": [
        "math\n",
        "english"
      ],
      "execution_count": null,
      "outputs": [
        {
          "output_type": "error",
          "ename": "NameError",
          "evalue": "ignored",
          "traceback": [
            "\u001b[0;31m---------------------------------------------------------------------------\u001b[0m",
            "\u001b[0;31mNameError\u001b[0m                                 Traceback (most recent call last)",
            "\u001b[0;32m<ipython-input-8-e57cf9c63e41>\u001b[0m in \u001b[0;36m<module>\u001b[0;34m()\u001b[0m\n\u001b[0;32m----> 1\u001b[0;31m \u001b[0mmath\u001b[0m\u001b[0;34m\u001b[0m\u001b[0;34m\u001b[0m\u001b[0m\n\u001b[0m\u001b[1;32m      2\u001b[0m \u001b[0menglish\u001b[0m\u001b[0;34m\u001b[0m\u001b[0;34m\u001b[0m\u001b[0m\n",
            "\u001b[0;31mNameError\u001b[0m: name 'math' is not defined"
          ]
        }
      ]
    },
    {
      "cell_type": "code",
      "metadata": {
        "id": "ET_nL3T6jM01"
      },
      "source": [
        ""
      ],
      "execution_count": null,
      "outputs": []
    },
    {
      "cell_type": "markdown",
      "metadata": {
        "id": "DX5dvvi-jPNC"
      },
      "source": [
        "### **변수 이름 규칙**\n",
        " * 숫자로 시작하는 이름을 제외하고 영문\n",
        "대소문자, _, 숫자로 구성 가능 \n",
        " - 숫지로 시작은 안된다!\n",
        " * 일반적으로 변수를 표현할 떄 정확하고\n",
        "간절한 이름을 사용하여 쉽게 이해하고록\n",
        "설정한다.\n",
        " - 예) a = 900 경우보다, hy_student_num = 900으로 명시하는 것이 이해가 빠르다."
      ]
    },
    {
      "cell_type": "code",
      "metadata": {
        "id": "XNgWW3XokO72"
      },
      "source": [
        "abab = 100\n",
        "#4_num = 10 숫자로 시작하여 실행안됌\n",
        "ABab =200\n",
        "_right = 800"
      ],
      "execution_count": null,
      "outputs": []
    },
    {
      "cell_type": "code",
      "metadata": {
        "id": "J2jdJ6Sokg2P"
      },
      "source": [
        ""
      ],
      "execution_count": null,
      "outputs": []
    },
    {
      "cell_type": "markdown",
      "metadata": {
        "id": "_Jal5tm7lL7Z"
      },
      "source": [
        "### **예약어(키워드)**\n",
        "* python에서 미리 선점하여 사용중인 키워드\n",
        "* 변수,함수,클레스 등 사영자 정의 이름으로 사용할 수 없음"
      ]
    },
    {
      "cell_type": "code",
      "metadata": {
        "colab": {
          "base_uri": "https://localhost:8080/"
        },
        "id": "VoYwk7BEltaS",
        "outputId": "eb76f528-e946-47d8-b58d-ca91c0e27e40"
      },
      "source": [
        "#for = 10 #for은 예약어로 변수 사용 불가\n",
        "_for = 100\n",
        "_for"
      ],
      "execution_count": null,
      "outputs": [
        {
          "output_type": "execute_result",
          "data": {
            "text/plain": [
              "100"
            ]
          },
          "metadata": {},
          "execution_count": 12
        }
      ]
    },
    {
      "cell_type": "code",
      "metadata": {
        "id": "OeQAbAHEmEdn"
      },
      "source": [
        ""
      ],
      "execution_count": null,
      "outputs": []
    },
    {
      "cell_type": "markdown",
      "metadata": {
        "id": "v7jz__kAnfZc"
      },
      "source": [
        "## **기본 데이터 타입**\n",
        "\n",
        "*   정수(int)\n",
        "*   실수(float)\n",
        "\n",
        "*   문자열(str)\n",
        "*   불리언(boolean)\n",
        "\n",
        "\n",
        "\n"
      ]
    },
    {
      "cell_type": "code",
      "metadata": {
        "colab": {
          "base_uri": "https://localhost:8080/"
        },
        "id": "Zi8L1FsFoN10",
        "outputId": "b3b05e42-b116-4c8e-94fd-d315abb9c8bf"
      },
      "source": [
        " a = 10 #정수형(int)\n",
        " b = 15.6 #실수형(float)\n",
        " c = \"2학기 회장은\" #문자형(str)\n",
        " d = a > b #불리언(boolean)\n",
        "\n",
        " print( a, b, c ,d)"
      ],
      "execution_count": 1,
      "outputs": [
        {
          "output_type": "stream",
          "text": [
            "10 15.6 2학기 회장은 False\n"
          ],
          "name": "stdout"
        }
      ]
    },
    {
      "cell_type": "code",
      "metadata": {
        "id": "zWxu9307oE2S"
      },
      "source": [
        ""
      ],
      "execution_count": null,
      "outputs": []
    },
    {
      "cell_type": "markdown",
      "metadata": {
        "id": "_N9zGFQ_o6Wc"
      },
      "source": [
        "#### **type() 함수**\n",
        "해당 변수,값의 타입(type)을 알고자할 때 사용하는 함수"
      ]
    },
    {
      "cell_type": "code",
      "metadata": {
        "colab": {
          "base_uri": "https://localhost:8080/",
          "height": 136
        },
        "id": "3a72ePGypMdx",
        "outputId": "973b9948-1d51-4d67-b5fa-be8e50f66b62"
      },
      "source": [
        "print(type(a),type type type"
      ],
      "execution_count": 2,
      "outputs": [
        {
          "output_type": "error",
          "ename": "SyntaxError",
          "evalue": "ignored",
          "traceback": [
            "\u001b[0;36m  File \u001b[0;32m\"<ipython-input-2-3804fbd0961b>\"\u001b[0;36m, line \u001b[0;32m1\u001b[0m\n\u001b[0;31m    print(type(a),type type type\u001b[0m\n\u001b[0m                          ^\u001b[0m\n\u001b[0;31mSyntaxError\u001b[0m\u001b[0;31m:\u001b[0m invalid syntax\n"
          ]
        }
      ]
    },
    {
      "cell_type": "code",
      "metadata": {
        "id": "HeCS4i1Mpizx"
      },
      "source": [
        ""
      ],
      "execution_count": null,
      "outputs": []
    },
    {
      "cell_type": "markdown",
      "metadata": {
        "id": "J42NSdtnpjw8"
      },
      "source": [
        "### **타입 None**\n",
        "\n",
        "*   아무런 값을 갖지 않을 떄 사용\n",
        "*   일반적으로 변수가 초기값을 갖지 않게 하여\n",
        "해당 변수를 생성할 때 사용\n",
        "*   다른 언어에서는 NULL과 같은 의미로 사용\n",
        "\n",
        "\n",
        "\n",
        "\n"
      ]
    },
    {
      "cell_type": "code",
      "metadata": {
        "colab": {
          "base_uri": "https://localhost:8080/"
        },
        "id": "JQLup9m0qU64",
        "outputId": "dd043aaa-7f56-4b0a-d7d3-0d0a028d396b"
      },
      "source": [
        "n = None\n",
        "print(n)"
      ],
      "execution_count": 4,
      "outputs": [
        {
          "output_type": "stream",
          "text": [
            "None\n"
          ],
          "name": "stdout"
        }
      ]
    },
    {
      "cell_type": "code",
      "metadata": {
        "id": "IG2RKH35qbYh"
      },
      "source": [
        ""
      ],
      "execution_count": null,
      "outputs": []
    },
    {
      "cell_type": "markdown",
      "metadata": {
        "id": "6082qqiZu2KY"
      },
      "source": [
        "### **비교 연산자**\n",
        "\n",
        "- 프로그래밍에서는 '='이게 아니라, = 를 사용\n",
        " - 예) 2학기 회장 = 상록 #장\n",
        "- 작다. 크다(>.<)\n",
        "- 작거나 같다, 크거나 같다(=>,<+\n",
        "- 같다 (==)\n",
        "- 같지 않다(!=)\n",
        " - 예)2학기 회장 != 지설 #거짓 \n",
        "- 결론적으로 비교 연산자 결과는 bool 타입으로 출력    \n",
        "\n",
        "\n"
      ]
    },
    {
      "cell_type": "code",
      "metadata": {
        "colab": {
          "base_uri": "https://localhost:8080/"
        },
        "id": "5VL7mJBhvs2V",
        "outputId": "8a5c146e-d412-4075-d439-136e5b9a572f"
      },
      "source": [
        "ss = 76100\n",
        "nv = 434000\n",
        "\n",
        "print(ss>nv)\n",
        "print(nv>ss)\n",
        "print(nv<=ss)\n",
        "print(nv>=ss)\n",
        "print(nv==ss)\n",
        "print(nv!=ss)"
      ],
      "execution_count": 8,
      "outputs": [
        {
          "output_type": "stream",
          "text": [
            "False\n",
            "True\n",
            "False\n",
            "True\n",
            "False\n",
            "True\n"
          ],
          "name": "stdout"
        }
      ]
    },
    {
      "cell_type": "code",
      "metadata": {
        "id": "_paIe_kawHwN"
      },
      "source": [
        ""
      ],
      "execution_count": null,
      "outputs": []
    },
    {
      "cell_type": "markdown",
      "metadata": {
        "id": "GLRJ58L4xxqf"
      },
      "source": [
        "### **기본 연산자**\n",
        "\n"
      ]
    },
    {
      "cell_type": "code",
      "metadata": {
        "colab": {
          "base_uri": "https://localhost:8080/"
        },
        "id": "kWT_HGaOx7SS",
        "outputId": "25365964-4e89-4ef5-ddd5-364def907497"
      },
      "source": [
        "print(ss + nv)\n",
        "print (ss - nv)\n",
        "print (ss * nv)\n",
        "print (ss / nv)\n",
        "print (ss % nv)\n",
        "\n",
        "a = 3\n",
        "b = 2\n",
        "\n",
        "print (a ** b)"
      ],
      "execution_count": 10,
      "outputs": [
        {
          "output_type": "stream",
          "text": [
            "510100\n",
            "-357900\n",
            "33027400000\n",
            "0.17534562211981566\n",
            "76100\n",
            "9\n"
          ],
          "name": "stdout"
        }
      ]
    },
    {
      "cell_type": "code",
      "metadata": {
        "id": "bePM_7wOyWvy"
      },
      "source": [
        ""
      ],
      "execution_count": null,
      "outputs": []
    },
    {
      "cell_type": "markdown",
      "metadata": {
        "id": "Xx5lAKStzIYG"
      },
      "source": [
        "## **연산자 우선순위**\n",
        "\n",
        "- 기본적으로 수학의 연산자와 동일\n",
        "- 먼저 연산을 위해서 괄호()를 사용"
      ]
    },
    {
      "cell_type": "code",
      "metadata": {
        "colab": {
          "base_uri": "https://localhost:8080/"
        },
        "id": "1m_xTr4EzUVc",
        "outputId": "ebd0c81d-a309-4b34-be3e-dabeb028e5e9"
      },
      "source": [
        "a= 5\n",
        "b =4\n",
        "print(a+b*50)\n",
        "print((a+b)*50)"
      ],
      "execution_count": 11,
      "outputs": [
        {
          "output_type": "stream",
          "text": [
            "205\n",
            "450\n"
          ],
          "name": "stdout"
        }
      ]
    },
    {
      "cell_type": "code",
      "metadata": {
        "id": "C2A5Jt7azjiR"
      },
      "source": [
        ""
      ],
      "execution_count": null,
      "outputs": []
    }
  ]
}