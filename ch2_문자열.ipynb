{
  "nbformat": 4,
  "nbformat_minor": 0,
  "metadata": {
    "colab": {
      "name": "Untitled0.ipynb",
      "provenance": [],
      "authorship_tag": "ABX9TyN7PnOcDkt4O8VhUnqK+bsn",
      "include_colab_link": true
    },
    "kernelspec": {
      "name": "python3",
      "display_name": "Python 3"
    },
    "language_info": {
      "name": "python"
    }
  },
  "cells": [
    {
      "cell_type": "markdown",
      "metadata": {
        "id": "view-in-github",
        "colab_type": "text"
      },
      "source": [
        "<a href=\"https://colab.research.google.com/github/ddlfj/py/blob/main/ch2_%EB%AC%B8%EC%9E%90%EC%97%B4.ipynb\" target=\"_parent\"><img src=\"https://colab.research.google.com/assets/colab-badge.svg\" alt=\"Open In Colab\"/></a>"
      ]
    },
    {
      "cell_type": "code",
      "metadata": {
        "id": "iZ7_9sOg9Wtx"
      },
      "source": [
        ""
      ],
      "execution_count": null,
      "outputs": []
    },
    {
      "cell_type": "markdown",
      "metadata": {
        "id": "izuCDcHt9bRW"
      },
      "source": [
        "####**학습목표**\n",
        "1.문자열(str)타입 이해하기"
      ]
    },
    {
      "cell_type": "code",
      "metadata": {
        "id": "1XsuagA99m6E"
      },
      "source": [
        ""
      ],
      "execution_count": null,
      "outputs": []
    },
    {
      "cell_type": "markdown",
      "metadata": {
        "id": "Lbz6l09T9vJs"
      },
      "source": [
        "**문자열(str)**\n",
        "- 여러 개의 문자를 순서대로 나열한 것\n",
        "- 문자열은 '(작은띠옴표)' 혹은 \"(큰띠옴표) 사이에 문자를 넣어서 생성\n",
        " - ''',\"\"\"(여러번 쓸경우):여러 줄에 걸쳐 문자열이 표현 가능\n",
        "- 문자열 자체에 ','있을 경우에는 그 반대의 기호로 생성"
      ]
    },
    {
      "cell_type": "code",
      "metadata": {
        "colab": {
          "base_uri": "https://localhost:8080/"
        },
        "id": "iGLzfAn7-L9L",
        "outputId": "886aa448-4931-4897-9adc-17380bf6dac1"
      },
      "source": [
        "a = \"Hello' world!\"\n",
        "b = 'Hello\" world!'\n",
        "\n",
        "c = ''' Hello world\n",
        "\n",
        "it is hayoung'''\n",
        "\n",
        "\n",
        "print(a)\n",
        "print(b)"
      ],
      "execution_count": 2,
      "outputs": [
        {
          "output_type": "stream",
          "text": [
            "Hello' world!\n",
            "Hello\" world!\n"
          ],
          "name": "stdout"
        }
      ]
    },
    {
      "cell_type": "code",
      "metadata": {
        "id": "23Q6xjhW_Gxa"
      },
      "source": [
        ""
      ],
      "execution_count": 2,
      "outputs": []
    },
    {
      "cell_type": "markdown",
      "metadata": {
        "id": "XzeMS345CIJa"
      },
      "source": [
        "**이스케이프(escape) 문자**\n",
        "- 탈출 효과를 주기 위해 문자열 내부에 넣는다\n",
        "- \\n:엔터(다음줄)\n",
        "- \\t:tab"
      ]
    },
    {
      "cell_type": "code",
      "metadata": {
        "colab": {
          "base_uri": "https://localhost:8080/"
        },
        "id": "Eg3gt7YWCLWx",
        "outputId": "ff3f4483-82c7-4dbc-c323-c9553477daca"
      },
      "source": [
        "print('helli\\n\\rworld')\n",
        "print('이렇게 엔터를wn치면 됩니다')\n",
        "print('2학기 회장:\\t 오상록')\n",
        "print('1학년 회장:\\t 전지설')"
      ],
      "execution_count": 4,
      "outputs": [
        {
          "output_type": "stream",
          "text": [
            "helli\n",
            "\rworld\n",
            "이렇게 엔터를wn치면 됩니다\n",
            "2학기 회장:\t 오상록\n",
            "1학년 회장:\t 전지설\n"
          ],
          "name": "stdout"
        }
      ]
    },
    {
      "cell_type": "markdown",
      "metadata": {
        "id": "TLcbxl8aA_nL"
      },
      "source": [
        ""
      ]
    },
    {
      "cell_type": "markdown",
      "metadata": {
        "id": "UBhYlXt8CCfT"
      },
      "source": [
        ""
      ]
    },
    {
      "cell_type": "markdown",
      "metadata": {
        "id": "lAS8TtRZA70S"
      },
      "source": [
        ""
      ]
    }
  ]
}