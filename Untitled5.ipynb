{
  "nbformat": 4,
  "nbformat_minor": 0,
  "metadata": {
    "colab": {
      "name": "Untitled5.ipynb",
      "provenance": [],
      "authorship_tag": "ABX9TyNjpGykAOsEiaPyk6WSdXz5",
      "include_colab_link": true
    },
    "kernelspec": {
      "name": "python3",
      "display_name": "Python 3"
    },
    "language_info": {
      "name": "python"
    }
  },
  "cells": [
    {
      "cell_type": "markdown",
      "metadata": {
        "id": "view-in-github",
        "colab_type": "text"
      },
      "source": [
        "<a href=\"https://colab.research.google.com/github/ddlfj/py/blob/main/Untitled5.ipynb\" target=\"_parent\"><img src=\"https://colab.research.google.com/assets/colab-badge.svg\" alt=\"Open In Colab\"/></a>"
      ]
    },
    {
      "cell_type": "code",
      "metadata": {
        "id": "bAZHVmgqbQTF"
      },
      "source": [
        ""
      ],
      "execution_count": null,
      "outputs": []
    },
    {
      "cell_type": "markdown",
      "metadata": {
        "id": "4U2LVnIXbOX9"
      },
      "source": [
        "# 모듈 임프트\n",
        "- requsts:HTTP 요청,응답 모듈\n",
        "- numpy:수치해석 모듈\n",
        "- pandas:데이터 분석 모듈"
      ]
    },
    {
      "cell_type": "code",
      "metadata": {
        "colab": {
          "base_uri": "https://localhost:8080/",
          "height": 136
        },
        "id": "Y-LYt2SgZ2YZ",
        "outputId": "1bd3440d-d96c-450c-9736-2acb37a785fb"
      },
      "source": [
        "import requests\n",
        "resp = requests.get('http://hanyang.sen.hs.kr')\n",
        "resp.text"
      ],
      "execution_count": 3,
      "outputs": [
        {
          "output_type": "error",
          "ename": "SyntaxError",
          "evalue": "ignored",
          "traceback": [
            "\u001b[0;36m  File \u001b[0;32m\"<ipython-input-3-3791beb8ad97>\"\u001b[0;36m, line \u001b[0;32m2\u001b[0m\n\u001b[0;31m    resp = requests.get('\u001b[0m\n\u001b[0m                         ^\u001b[0m\n\u001b[0;31mSyntaxError\u001b[0m\u001b[0;31m:\u001b[0m EOL while scanning string literal\n"
          ]
        }
      ]
    },
    {
      "cell_type": "markdown",
      "metadata": {
        "id": "ZXDXgkYZb05W"
      },
      "source": [
        ""
      ]
    },
    {
      "cell_type": "markdown",
      "metadata": {
        "id": "PYkELAGqb3Qd"
      },
      "source": [
        "from math import pi\n",
        "fror math import factorial\n",
        "pi\n",
        "factorial(6)"
      ]
    },
    {
      "cell_type": "code",
      "metadata": {
        "id": "MhXQ_owdcTmq"
      },
      "source": [
        ""
      ],
      "execution_count": null,
      "outputs": []
    },
    {
      "cell_type": "markdown",
      "metadata": {
        "id": "rAVrePvgcZqW"
      },
      "source": [
        "# **as**\n",
        "- 모듈을 import시, 별명(alias)지정가능\n"
      ]
    },
    {
      "cell_type": "code",
      "metadata": {
        "colab": {
          "base_uri": "https://localhost:8080/"
        },
        "id": "l--79KPgcmXi",
        "outputId": "62085b54-2f54-493b-8fdc-e38d8310aa32"
      },
      "source": [
        "import math as m\n",
        "m.factorial(6)\n",
        "m.pi"
      ],
      "execution_count": 6,
      "outputs": [
        {
          "output_type": "execute_result",
          "data": {
            "text/plain": [
              "3.141592653589793"
            ]
          },
          "metadata": {},
          "execution_count": 6
        }
      ]
    }
  ]
}