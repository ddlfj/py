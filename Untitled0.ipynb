{
  "nbformat": 4,
  "nbformat_minor": 0,
  "metadata": {
    "colab": {
      "name": "Untitled0.ipynb",
      "provenance": [],
      "authorship_tag": "ABX9TyMnpXrsdSe0qDztwlWIIoyq",
      "include_colab_link": true
    },
    "kernelspec": {
      "name": "python3",
      "display_name": "Python 3"
    },
    "language_info": {
      "name": "python"
    }
  },
  "cells": [
    {
      "cell_type": "markdown",
      "metadata": {
        "id": "view-in-github",
        "colab_type": "text"
      },
      "source": [
        "<a href=\"https://colab.research.google.com/github/ddlfj/py/blob/main/Untitled0.ipynb\" target=\"_parent\"><img src=\"https://colab.research.google.com/assets/colab-badge.svg\" alt=\"Open In Colab\"/></a>"
      ]
    },
    {
      "cell_type": "code",
      "metadata": {
        "id": "8SzQ7B6hsbJL"
      },
      "source": [
        "#1. 파이선 변수\n",
        "_mun = 1\n",
        "num = 2\n",
        "num1 = 3\n",
        "#2num = 3\n",
        "#안에 숫자를 올 수 없다!\n",
        "n_um = 3\n"
      ],
      "execution_count": null,
      "outputs": []
    },
    {
      "cell_type": "code",
      "metadata": {
        "colab": {
          "base_uri": "https://localhost:8080/"
        },
        "id": "HPOA8-QSvBKD",
        "outputId": "9c196067-f6c7-4cb7-e55f-7ae882550205"
      },
      "source": [
        "#2. 각 변수에 지장된 최종 값은?\n",
        "sum = 0\n",
        "n1 = 10\n",
        "n1 = n1+10\n",
        "n2 = 20\n",
        "sum = n1+n2\n",
        "print(n1, n2, sum)"
      ],
      "execution_count": null,
      "outputs": [
        {
          "output_type": "stream",
          "name": "stdout",
          "text": [
            "20 20 40\n"
          ]
        }
      ]
    },
    {
      "cell_type": "code",
      "metadata": {
        "colab": {
          "base_uri": "https://localhost:8080/"
        },
        "id": "BZe6I7Fivbz9",
        "outputId": "dde5df30-3aac-4290-cbd0-17b2f774964f"
      },
      "source": [
        "#3. 적절한 연산자 찾기\n",
        "print(17//4)\n",
        "print(17/4)\n",
        "print(17%4)"
      ],
      "execution_count": null,
      "outputs": [
        {
          "output_type": "stream",
          "name": "stdout",
          "text": [
            "4\n",
            "4.25\n",
            "1\n"
          ]
        }
      ]
    },
    {
      "cell_type": "code",
      "metadata": {
        "colab": {
          "base_uri": "https://localhost:8080/"
        },
        "id": "xp_JxM-Y0Yy6",
        "outputId": "5d084b70-e4fb-4d0c-c933-0a2b0ecf12d3"
      },
      "source": [
        "#4. 타입 찾기\n",
        "#age = 17\n",
        "age = 17\n",
        "print(type(type(age)))"
      ],
      "execution_count": null,
      "outputs": [
        {
          "output_type": "stream",
          "name": "stdout",
          "text": [
            "<class 'type'>\n"
          ]
        }
      ]
    },
    {
      "cell_type": "code",
      "metadata": {
        "colab": {
          "base_uri": "https://localhost:8080/"
        },
        "id": "CrxmWjnp083S",
        "outputId": "0d5e7875-96b9-46df-ce34-3e08c409259c"
      },
      "source": [
        "#5. 문자열 언덱싱\n",
        "s = 'Hello Henyang!'\n",
        "print(s[5],s[-5])"
      ],
      "execution_count": null,
      "outputs": [
        {
          "output_type": "stream",
          "name": "stdout",
          "text": [
            "  y\n"
          ]
        }
      ]
    },
    {
      "cell_type": "code",
      "metadata": {
        "colab": {
          "base_uri": "https://localhost:8080/"
        },
        "id": "2WUDSvys1t3D",
        "outputId": "a77b1968-d034-4af7-8c2f-2ef31ca5f28e"
      },
      "source": [
        "#6. upper()함수의 문자열 슬라이싱\n",
        "s = 'Hello Hanyang!'\n",
        "print(s)\n",
        "s = s.upper()\n",
        "print(s)\n",
        "print(s[:8])\n",
        "print(s[8:])\n",
        "print(s[1:10])\n"
      ],
      "execution_count": null,
      "outputs": [
        {
          "output_type": "stream",
          "name": "stdout",
          "text": [
            "Hello Hanyang!\n",
            "HELLO HANYANG!\n",
            "HELLO HA\n",
            "NYANG!\n",
            "ELLO HANY\n"
          ]
        }
      ]
    },
    {
      "cell_type": "code",
      "metadata": {
        "id": "Ylqyqfpo2P91"
      },
      "source": [
        "#8. 여러 데이터를 다루는 파이썬 자료들\n",
        "# 리스트, 튜플, 딕셔너리, 셋\n"
      ],
      "execution_count": null,
      "outputs": []
    },
    {
      "cell_type": "code",
      "metadata": {
        "colab": {
          "base_uri": "https://localhost:8080/"
        },
        "id": "K6k2QxnY3bX8",
        "outputId": "75f15d10-74fd-43a7-90c6-e9998bf8e766"
      },
      "source": [
        "#8-9. 리스트\n",
        "a = ['a',1,'python',(1,2),'2',[1,2]]\n",
        "print(a[3])\n",
        "print(1 in a, 2 in a)"
      ],
      "execution_count": null,
      "outputs": [
        {
          "output_type": "stream",
          "name": "stdout",
          "text": [
            "(1, 2)\n",
            "True False\n"
          ]
        }
      ]
    },
    {
      "cell_type": "code",
      "metadata": {
        "colab": {
          "base_uri": "https://localhost:8080/"
        },
        "id": "BzrRtVhd34YV",
        "outputId": "cd8ecb84-b5ef-48c7-ca78-4fbab86111de"
      },
      "source": [
        "#10. 파이썬 코드\n",
        "nums = list(range(4))\n",
        "print(nums)\n",
        "nums.insert(3,100)\n",
        "print(nums)"
      ],
      "execution_count": null,
      "outputs": [
        {
          "output_type": "stream",
          "name": "stdout",
          "text": [
            "[0, 1, 2, 3]\n",
            "[0, 1, 2, 100, 3]\n"
          ]
        }
      ]
    },
    {
      "cell_type": "code",
      "metadata": {
        "colab": {
          "base_uri": "https://localhost:8080/"
        },
        "id": "4aDAv78S4mdi",
        "outputId": "0a547322-c7bf-4df9-88a1-5362da079631"
      },
      "source": [
        "#11. 판수의 최종값\n",
        "a = 100\n",
        "b = 200\n",
        "a, b = b, a\n",
        "\n",
        "print(a,b)"
      ],
      "execution_count": null,
      "outputs": [
        {
          "output_type": "stream",
          "name": "stdout",
          "text": [
            "200 100\n"
          ]
        }
      ]
    },
    {
      "cell_type": "code",
      "metadata": {
        "colab": {
          "base_uri": "https://localhost:8080/"
        },
        "id": "Lt69ePJ05p3e",
        "outputId": "c48439d8-cf5a-4f3b-af23-531dedab304d"
      },
      "source": [
        "#12. \n",
        "a = {'han':1, 1:2, '1':3}\n",
        "print(a)\n",
        "a[1] = 'yang'\n",
        "print(a)"
      ],
      "execution_count": null,
      "outputs": [
        {
          "output_type": "stream",
          "name": "stdout",
          "text": [
            "{'han': 1, 1: 2, '1': 3}\n",
            "{'han': 1, 1: 'yang', '1': 3}\n"
          ]
        }
      ]
    },
    {
      "cell_type": "code",
      "metadata": {
        "colab": {
          "base_uri": "https://localhost:8080/"
        },
        "id": "99u1yjdj6WAa",
        "outputId": "bb1d8f98-514b-4a34-d858-dd3d6cd31286"
      },
      "source": [
        "#13. 셋\n",
        "a = set([1,1,1,1,1,1,1,1,1,1,2,3])\n",
        "print(a)\n",
        "b = set('Helllo')\n",
        "print(b)"
      ],
      "execution_count": null,
      "outputs": [
        {
          "output_type": "stream",
          "name": "stdout",
          "text": [
            "{1, 2, 3}\n",
            "{'e', 'H', 'o', 'l'}\n"
          ]
        }
      ]
    },
    {
      "cell_type": "code",
      "metadata": {
        "colab": {
          "base_uri": "https://localhost:8080/"
        },
        "id": "NgF8O2tV67_h",
        "outputId": "eb194aad-2e87-4b57-8a49-50ffb8bda184"
      },
      "source": [
        "#14. \n",
        "room = [[0,0,1,0,9],\n",
        "        [1,0,1,0,1],\n",
        "        [0,1,1,1,9,]]\n",
        "\n",
        "mouse = room[0][2]\n",
        "\n",
        "if mouse == 1:\n",
        "  print('cheese')\n",
        "elif mouse == 9:\n",
        "  print('trap') \n",
        "else:\n",
        "  print('notging')   "
      ],
      "execution_count": null,
      "outputs": [
        {
          "output_type": "stream",
          "name": "stdout",
          "text": [
            "cheese\n"
          ]
        }
      ]
    },
    {
      "cell_type": "code",
      "metadata": {
        "colab": {
          "base_uri": "https://localhost:8080/"
        },
        "id": "94U6VrgHDlkV",
        "outputId": "20db1f70-1432-4448-cf5c-bcde56a5cb25"
      },
      "source": [
        "#15-17\n",
        "\n",
        "a = 0\n",
        "b = 0\n",
        "\n",
        "\n",
        "for i in range(3,9):\n",
        "  if i%2 == 0 and i%3 ==0:\n",
        "    continue\n",
        "  elif i%2 == 0:\n",
        "    a += 1\n",
        "  elif i%3 == 0:\n",
        "    b += 1\n",
        "\n",
        "print(a,b)       "
      ],
      "execution_count": null,
      "outputs": [
        {
          "output_type": "stream",
          "name": "stdout",
          "text": [
            "2 1\n"
          ]
        }
      ]
    },
    {
      "cell_type": "code",
      "metadata": {
        "colab": {
          "base_uri": "https://localhost:8080/"
        },
        "id": "DNDpYHqhFIXP",
        "outputId": "69284bb3-a715-4969-fc75-c75b7daa8e57"
      },
      "source": [
        "#18-20.\n",
        "print('메뉴번호 1,쿠키(300원 2.짬뽕(500원 3.치킨(700원)')\n",
        "\n",
        "money = int(input('투입금액'))\n",
        "menu = int(input('메뉴번호'))\n",
        "\n",
        "if menu == 1:\n",
        "  money = money-300\n",
        "elif menu == 2:\n",
        "  money -= 500\n",
        "elif menu == 3:\n",
        "  morey -= 700\n",
        "\n",
        "if money < 0:\n",
        "  print('금액이 부족갑니다.')\n",
        "else:\n",
        "  won1000 = money//1000\n",
        "  won500 = (money%1000)//500\n",
        "  won100 = ((money%1000)%500)//100\n",
        "  print('거스름돈: 1000원 {}개. 500 {}개 100원 {}개'.format(won1000, won500, won100))"
      ],
      "execution_count": null,
      "outputs": [
        {
          "output_type": "stream",
          "name": "stdout",
          "text": [
            "메뉴번호 1,쿠키(300원 2.짬뽕(500원 3.치킨(700원)\n",
            "투입금액5000\n",
            "메뉴번호2\n",
            "거스름돈: 1000원 4개. 500 1개 100원 0개\n"
          ]
        }
      ]
    },
    {
      "cell_type": "code",
      "metadata": {
        "id": "U2XB7iAOGAQV"
      },
      "source": [
        ""
      ],
      "execution_count": null,
      "outputs": []
    }
  ]
}