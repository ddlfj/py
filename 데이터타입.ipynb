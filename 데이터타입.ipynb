{
  "nbformat": 4,
  "nbformat_minor": 0,
  "metadata": {
    "colab": {
      "name": "데이터타입.ipynb",
      "provenance": [],
      "authorship_tag": "ABX9TyPrv2nmP17z7p7x8d5KklHF",
      "include_colab_link": true
    },
    "kernelspec": {
      "name": "python3",
      "display_name": "Python 3"
    },
    "language_info": {
      "name": "python"
    }
  },
  "cells": [
    {
      "cell_type": "markdown",
      "metadata": {
        "id": "view-in-github",
        "colab_type": "text"
      },
      "source": [
        "<a href=\"https://colab.research.google.com/github/ddlfj/py/blob/main/%EB%8D%B0%EC%9D%B4%ED%84%B0%ED%83%80%EC%9E%85.ipynb\" target=\"_parent\"><img src=\"https://colab.research.google.com/assets/colab-badge.svg\" alt=\"Open In Colab\"/></a>"
      ]
    },
    {
      "cell_type": "code",
      "metadata": {
        "id": "Gi08X4Kzqck1"
      },
      "source": [
        "  "
      ],
      "execution_count": null,
      "outputs": []
    },
    {
      "cell_type": "markdown",
      "metadata": {
        "id": "K1wHXisytnTn"
      },
      "source": [
        "## **학습목표**\n",
        "dictionary,set에 대해 이해하기"
      ]
    },
    {
      "cell_type": "code",
      "metadata": {
        "id": "6nSC6V-duE-l"
      },
      "source": [
        ""
      ],
      "execution_count": null,
      "outputs": []
    },
    {
      "cell_type": "markdown",
      "metadata": {
        "id": "y0itZ3A_uF3X"
      },
      "source": [
        " **Dict ionary**\n",
        " - 키와 값을 갖는 데이터 구저\n",
        " - 키는 내부적으로 hash값으로 저장\n",
        " - 순서를 따지지 않음."
      ]
    },
    {
      "cell_type": "code",
      "metadata": {
        "colab": {
          "base_uri": "https://localhost:8080/"
        },
        "id": "aUS0NJryu1V0",
        "outputId": "1be739bb-77e9-46c5-a188-aa55beb844f8"
      },
      "source": [
        "a = {'Korea':'Seoul',\n",
        "     'Canada':'Ottawa',\n",
        "     'USA':'Washington D.C'}\n",
        "b = {0:1, 1:6, 7:9, 8:10}\n",
        "\n",
        "print(a)\n",
        "print(a['Korea'])\n",
        "#print(a['japan'])\n",
        "print(b[1])\n",
        "print(b[0])"
      ],
      "execution_count": 2,
      "outputs": [
        {
          "output_type": "stream",
          "name": "stdout",
          "text": [
            "{'Korea': 'Seoul', 'Canada': 'Ottawa', 'USA': 'Washington D.C'}\n",
            "Seoul\n",
            "6\n",
            "1\n"
          ]
        }
      ]
    },
    {
      "cell_type": "code",
      "metadata": {
        "id": "GRSWdVG7vq70"
      },
      "source": [
        ""
      ],
      "execution_count": null,
      "outputs": []
    },
    {
      "cell_type": "markdown",
      "metadata": {
        "id": "2ZQGiibrwAc2"
      },
      "source": [
        "### **항목 추가 및 변경**\n",
        "- 기존에 키가 존재하면, 새로운 값으로 업데이트\n",
        "- 기존에 키가 없다면, 새로운 키값으로 생성"
      ]
    },
    {
      "cell_type": "code",
      "metadata": {
        "colab": {
          "base_uri": "https://localhost:8080/"
        },
        "id": "jshy04g5wP0t",
        "outputId": "bf793ba7-ada6-46d8-b478-a3f823f5281f"
      },
      "source": [
        "\n",
        "a['Japan'] = 'Tokyo'\n",
        "print(a)\n",
        "a['Japan'] = 'Osaka'\n",
        "a['China'] = 'Beijng'\n",
        "print(a)"
      ],
      "execution_count": 4,
      "outputs": [
        {
          "output_type": "stream",
          "name": "stdout",
          "text": [
            "{'Korea': 'Seoul', 'Canada': 'Ottawa', 'USA': 'Washington D.C', 'Japan': 'Tokyo'}\n",
            "{'Korea': 'Seoul', 'Canada': 'Ottawa', 'USA': 'Washington D.C', 'Japan': 'Osaka', 'China': 'Beijng'}\n"
          ]
        }
      ]
    },
    {
      "cell_type": "code",
      "metadata": {
        "id": "eNxAS772wiHD"
      },
      "source": [
        ""
      ],
      "execution_count": null,
      "outputs": []
    },
    {
      "cell_type": "markdown",
      "metadata": {
        "id": "HVBIiSN8xDWv"
      },
      "source": [
        "- update()\n",
        " - 두 딕셔너리를 병합\n",
        " - 겹치는 키가 있다면, 전달되는 값으로 업데이트된다.\n"
      ]
    },
    {
      "cell_type": "code",
      "metadata": {
        "colab": {
          "base_uri": "https://localhost:8080/"
        },
        "id": "x2Hx_hC7xNkr",
        "outputId": "577620df-3857-471b-85e7-77db921133f7"
      },
      "source": [
        "a = {'a':'apple','b':'banaa', 'c':'car'}\n",
        "b = {'b':'bus', 'c':'caramel', 'd':'dynamite','e':'education'}\n",
        "\n",
        "a.update(b) #a와 b병합\n",
        "print(a)"
      ],
      "execution_count": 8,
      "outputs": [
        {
          "output_type": "stream",
          "name": "stdout",
          "text": [
            "{'a': 'apple', 'b': 'bus', 'c': 'caramel', 'd': 'dynamite', 'e': 'education'}\n"
          ]
        }
      ]
    },
    {
      "cell_type": "code",
      "metadata": {
        "id": "nUl7H9xdyIbd"
      },
      "source": [
        ""
      ],
      "execution_count": null,
      "outputs": []
    },
    {
      "cell_type": "markdown",
      "metadata": {
        "id": "HTIKuxEZ5a2F"
      },
      "source": [
        ""
      ]
    },
    {
      "cell_type": "markdown",
      "metadata": {
        "id": "Uz2u0UAX5a8t"
      },
      "source": [
        "## **key삭제**\n",
        "- del 키워드\n",
        "- pop 함수 이용"
      ]
    },
    {
      "cell_type": "code",
      "metadata": {
        "colab": {
          "base_uri": "https://localhost:8080/"
        },
        "id": "5O1bABAx5Z6v",
        "outputId": "e3e71b30-eccd-4ecf-df46-601b83d50263"
      },
      "source": [
        "a = {'a':1, 'b':2, 'c':3}\n",
        "print(a)\n",
        "\n",
        "del a['a']\n",
        "print(a)\n",
        "\n",
        "c = a.pop('b')\n",
        "print(c)"
      ],
      "execution_count": 14,
      "outputs": [
        {
          "output_type": "stream",
          "name": "stdout",
          "text": [
            "{'a': 1, 'b': 2, 'c': 3}\n",
            "{'b': 2, 'c': 3}\n",
            "2\n"
          ]
        }
      ]
    },
    {
      "cell_type": "code",
      "metadata": {
        "id": "eAQ1Ouso5aD9"
      },
      "source": [
        ""
      ],
      "execution_count": null,
      "outputs": []
    },
    {
      "cell_type": "markdown",
      "metadata": {
        "id": "rd3IZITk9T83"
      },
      "source": [
        "**clear()**\n",
        "- 딕셔너리 값을 모두 초기화"
      ]
    },
    {
      "cell_type": "code",
      "metadata": {
        "colab": {
          "base_uri": "https://localhost:8080/"
        },
        "id": "3pG1Splr9eBd",
        "outputId": "2ea6f22e-bcd1-4a26-bb35-e11cc2012f03"
      },
      "source": [
        "a = {'a':1, 'b':2, 'c':3}\n",
        "a['add'] = 4\n",
        "print(a)\n",
        "a.clear()\n",
        "print(a)"
      ],
      "execution_count": 15,
      "outputs": [
        {
          "output_type": "stream",
          "name": "stdout",
          "text": [
            "{'a': 1, 'b': 2, 'c': 3, 'add': 4}\n",
            "{}\n"
          ]
        }
      ]
    },
    {
      "cell_type": "code",
      "metadata": {
        "id": "jZsNluSr9t6c"
      },
      "source": [
        ""
      ],
      "execution_count": null,
      "outputs": []
    },
    {
      "cell_type": "markdown",
      "metadata": {
        "id": "UVG63TMY96s2"
      },
      "source": [
        "**in**\n",
        "- key값의 존재를 확인"
      ]
    },
    {
      "cell_type": "code",
      "metadata": {
        "colab": {
          "base_uri": "https://localhost:8080/"
        },
        "id": "SeqmiqBV-CQ-",
        "outputId": "06b74171-98fb-4640-ee89-05dbfaec713f"
      },
      "source": [
        "a = {'a':1, 'b':2, 'c':3}\n",
        "print(2 in a)\n",
        "print('a' in a)"
      ],
      "execution_count": 17,
      "outputs": [
        {
          "output_type": "stream",
          "name": "stdout",
          "text": [
            "False\n",
            "True\n"
          ]
        }
      ]
    },
    {
      "cell_type": "code",
      "metadata": {
        "id": "VYr5SuyS-PM9"
      },
      "source": [
        ""
      ],
      "execution_count": null,
      "outputs": []
    },
    {
      "cell_type": "markdown",
      "metadata": {
        "id": "4vWH41jD-TkE"
      },
      "source": [
        "- dict[key]로 접근, 키가 존재하지 않을 경우\n",
        "에러\n",
        "- .get()함수로 접근해서 키가 없는 경우에도 프로그램을 실행"
      ]
    },
    {
      "cell_type": "code",
      "metadata": {
        "colab": {
          "base_uri": "https://localhost:8080/"
        },
        "id": "fqha4j-U-jz1",
        "outputId": "525dd8ca-5147-4d19-8dfb-11b3888ebd7b"
      },
      "source": [
        "a = {'a':1, 'b':2, 'c':3}\n",
        "print(a['a'])\n",
        "print(a.get('d'))"
      ],
      "execution_count": 18,
      "outputs": [
        {
          "output_type": "stream",
          "name": "stdout",
          "text": [
            "1\n",
            "None\n"
          ]
        }
      ]
    },
    {
      "cell_type": "markdown",
      "metadata": {
        "id": "eMTKfY5v_Chn"
      },
      "source": [
        "**모든 key와 값에 접근**\n",
        "- keys() : 키만 반환\n",
        "- values() : 값만 반환\n",
        "- items() : 키와 값의 튜플을 반환"
      ]
    },
    {
      "cell_type": "code",
      "metadata": {
        "colab": {
          "base_uri": "https://localhost:8080/"
        },
        "id": "XeXHGxs3-0qs",
        "outputId": "883d4b18-e7aa-4464-bab3-4f49bb61a9e2"
      },
      "source": [
        "a = {'a':1, 'b':2, 'c':3}\n",
        "print(a)\n",
        "print(list(a.keys()))\n",
        "print(list(a.values()))\n",
        "print(list(a.items()))"
      ],
      "execution_count": 21,
      "outputs": [
        {
          "output_type": "stream",
          "name": "stdout",
          "text": [
            "{'a': 1, 'b': 2, 'c': 3}\n",
            "['a', 'b', 'c']\n",
            "[1, 2, 3]\n",
            "[('a', 1), ('b', 2), ('c', 3)]\n"
          ]
        }
      ]
    },
    {
      "cell_type": "code",
      "metadata": {
        "id": "W-Kowag7_qZl"
      },
      "source": [
        "\n"
      ],
      "execution_count": null,
      "outputs": []
    },
    {
      "cell_type": "markdown",
      "metadata": {
        "id": "tCKfVLj6GJc-"
      },
      "source": [
        "####**set** \n",
        "- dictionary에서 ket만 활용한 데이터 구조\n",
        "- 중복이 허용되지 않은 구조"
      ]
    },
    {
      "cell_type": "code",
      "metadata": {
        "colab": {
          "base_uri": "https://localhost:8080/"
        },
        "id": "LxIuRx8IGaAK",
        "outputId": "b438a749-be54-4515-ee8f-f0dbe8166fac"
      },
      "source": [
        "a = {5,2,3,2,6,4,1,2,3,3}\n",
        "print(a)"
      ],
      "execution_count": 22,
      "outputs": [
        {
          "output_type": "stream",
          "name": "stdout",
          "text": [
            "{1, 2, 3, 4, 5, 6}\n"
          ]
        }
      ]
    },
    {
      "cell_type": "code",
      "metadata": {
        "colab": {
          "base_uri": "https://localhost:8080/"
        },
        "id": "8hyQi_kBGpZE",
        "outputId": "8df4ef9b-9874-4fcb-a247-d07d65171733"
      },
      "source": [
        "#리스트를 Set으로 변경\n",
        "a = [5,2,3,2,6,4,1,2,3,3,]\n",
        "print(a)\n",
        "\n",
        "b = set(a)\n",
        "print(b)\n"
      ],
      "execution_count": 23,
      "outputs": [
        {
          "output_type": "stream",
          "name": "stdout",
          "text": [
            "[5, 2, 3, 2, 6, 4, 1, 2, 3, 3]\n",
            "{1, 2, 3, 4, 5, 6}\n"
          ]
        }
      ]
    },
    {
      "cell_type": "code",
      "metadata": {
        "colab": {
          "base_uri": "https://localhost:8080/"
        },
        "id": "ZaQllIYUG_fc",
        "outputId": "0d70114b-f48b-45ef-e31b-6e18a81469c0"
      },
      "source": [
        "a = {1,2,3}\n",
        "b = {2,3,4}\n",
        "\n",
        "c = a.union(b) #합집합\n",
        "print(c)\n",
        "d = a.intersection(b) #교집합\n",
        "print(d)\n",
        "e = a.difference(b) #A-B 차집합\n",
        "print(e)"
      ],
      "execution_count": 24,
      "outputs": [
        {
          "output_type": "stream",
          "name": "stdout",
          "text": [
            "{1, 2, 3, 4}\n",
            "{2, 3}\n",
            "{1}\n"
          ]
        }
      ]
    },
    {
      "cell_type": "code",
      "metadata": {
        "id": "9b4pRQdIH-6r"
      },
      "source": [
        ""
      ],
      "execution_count": null,
      "outputs": []
    }
  ]
}