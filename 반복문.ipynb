{
  "nbformat": 4,
  "nbformat_minor": 0,
  "metadata": {
    "colab": {
      "name": "반복문.ipynb",
      "provenance": [],
      "collapsed_sections": [],
      "authorship_tag": "ABX9TyPdCYVBe95dezKBUSKKT72M",
      "include_colab_link": true
    },
    "kernelspec": {
      "name": "python3",
      "display_name": "Python 3"
    },
    "language_info": {
      "name": "python"
    }
  },
  "cells": [
    {
      "cell_type": "markdown",
      "metadata": {
        "id": "view-in-github",
        "colab_type": "text"
      },
      "source": [
        "<a href=\"https://colab.research.google.com/github/ddlfj/py/blob/main/%EB%B0%98%EB%B3%B5%EB%AC%B8.ipynb\" target=\"_parent\"><img src=\"https://colab.research.google.com/assets/colab-badge.svg\" alt=\"Open In Colab\"/></a>"
      ]
    },
    {
      "cell_type": "code",
      "metadata": {
        "id": "bMLXzLthqipm"
      },
      "source": [
        ""
      ],
      "execution_count": null,
      "outputs": []
    },
    {
      "cell_type": "markdown",
      "metadata": {
        "id": "kkEWPozaqjm8"
      },
      "source": [
        "## **학습목표**\n",
        "\n",
        "\n",
        "*   반목문의 이해 및 활용\n",
        "*   range() 함수를 이해\n",
        "\n"
      ]
    },
    {
      "cell_type": "code",
      "metadata": {
        "id": "Ugiphg0lq0xX"
      },
      "source": [
        ""
      ],
      "execution_count": null,
      "outputs": []
    },
    {
      "cell_type": "markdown",
      "metadata": {
        "id": "C85zEcf4q2hb"
      },
      "source": [
        "### **for 반목문**\n",
        "- 리스트, 문자열 등을 순회하면서 값을 처리할\n",
        "때 사용\n",
        "- i는 매번 문장을 수행할 떄 마다 a 리스트 안의\n",
        "값으로 순차적으로 변경된다.\n",
        "- 모든 a 안의 값이 수행되면 for문의 블록은 종료된다. "
      ]
    },
    {
      "cell_type": "code",
      "metadata": {
        "id": "Gx_9eA-mrGdZ"
      },
      "source": [
        "a = [1,2,3,4,5] #리스트\n",
        "\n",
        "for i in a:\n",
        "  print(i)"
      ],
      "execution_count": null,
      "outputs": []
    },
    {
      "cell_type": "markdown",
      "metadata": {
        "id": "1AzzRRRy0GEO"
      },
      "source": [
        ""
      ]
    },
    {
      "cell_type": "code",
      "metadata": {
        "colab": {
          "base_uri": "https://localhost:8080/"
        },
        "id": "a0HaObiq0Htk",
        "outputId": "688d4d15-8190-49ae-8ca2-dadade5060fa"
      },
      "source": [
        "#문지얄에서 아이템을 츌력해보기\n",
        "\n",
        "for x in 'Hello Comet B!':\n",
        "  print(x)"
      ],
      "execution_count": null,
      "outputs": [
        {
          "output_type": "stream",
          "name": "stdout",
          "text": [
            "H\n",
            "e\n",
            "l\n",
            "l\n",
            "o\n",
            " \n",
            "C\n",
            "o\n",
            "m\n",
            "e\n",
            "t\n",
            " \n",
            "B\n",
            "!\n"
          ]
        }
      ]
    },
    {
      "cell_type": "code",
      "metadata": {
        "colab": {
          "base_uri": "https://localhost:8080/"
        },
        "id": "nswq2mXK0X5L",
        "outputId": "17b11dd4-a74c-440c-c60b-9ec8670a86ba"
      },
      "source": [
        "# a 리스트 안의 수가 짝수면 그 수를 2로 나누고\n",
        "# 홀수일 경우 2를 곱한 수를 출력하시오.\n",
        "\n",
        "a = [1,10,6,29,18,7] #짝수와 홀수의 리스트\n",
        "\n",
        "\n",
        "for i in a :\n",
        "  if i % 2 == 0 : #짝수\n",
        "   print(i//2)\n",
        "  else :\n",
        "   print(i*2) "
      ],
      "execution_count": null,
      "outputs": [
        {
          "output_type": "stream",
          "name": "stdout",
          "text": [
            "2\n",
            "5\n",
            "3\n",
            "58\n",
            "9\n",
            "14\n"
          ]
        }
      ]
    },
    {
      "cell_type": "code",
      "metadata": {
        "id": "es6peSQI2l8F"
      },
      "source": [
        ""
      ],
      "execution_count": null,
      "outputs": []
    },
    {
      "cell_type": "markdown",
      "metadata": {
        "id": "ioSpQasc2nh8"
      },
      "source": [
        "## **break**\n",
        "- 특정 조건을 만족할 때 그 블록을 빠져나오기 위해서 사용"
      ]
    },
    {
      "cell_type": "code",
      "metadata": {
        "colab": {
          "base_uri": "https://localhost:8080/"
        },
        "id": "dQWx6xa92bbS",
        "outputId": "8f458b09-cedd-4c00-f9e3-aa791b4610cc"
      },
      "source": [
        "a = [1,10,6,29,18,7]\n",
        "\n",
        "for i in a :\n",
        " if i > 20: \n",
        "   print(i)\n",
        "   break"
      ],
      "execution_count": null,
      "outputs": [
        {
          "output_type": "stream",
          "name": "stdout",
          "text": [
            "29\n"
          ]
        }
      ]
    },
    {
      "cell_type": "code",
      "metadata": {
        "colab": {
          "base_uri": "https://localhost:8080/"
        },
        "id": "uS8mguUL3dJS",
        "outputId": "29db40e8-a567-465d-d0a8-ebc0b337a924"
      },
      "source": [
        "# 두 정수 A와 B를 입력받은 다음, A+B를 출력하는 프로그램을 작성하시오.\n",
        "# 첫째 줄에 테스트 케이스의 개수 T가 주어진다.\n",
        "# 각 테스트 케이스는 한 줄로 이루어져 있으며, 각 줄에 A와 B가 주어진다. (0 < A, B < 10)\n",
        "\n",
        "t = int(input())\n",
        "\n",
        "for i in range(t):\n",
        "  a, b = input().split()\n",
        "  a = int(a)\n",
        "  b = int(b)\n",
        "  print(a+b)"
      ],
      "execution_count": null,
      "outputs": [
        {
          "output_type": "stream",
          "name": "stdout",
          "text": [
            "3\n",
            "1 1\n",
            "2\n",
            "2 2\n",
            "4\n",
            "5 5\n",
            "10\n"
          ]
        }
      ]
    },
    {
      "cell_type": "code",
      "metadata": {
        "id": "E780ec0561A8"
      },
      "source": [
        ""
      ],
      "execution_count": null,
      "outputs": []
    },
    {
      "cell_type": "markdown",
      "metadata": {
        "id": "MJdLoltrCiZ1"
      },
      "source": [
        "#### **continue**\n",
        "- 해당 아이템을 건너 뛰고 싶을 때 사용"
      ]
    },
    {
      "cell_type": "code",
      "metadata": {
        "id": "4UHD0HOnCvjB",
        "colab": {
          "base_uri": "https://localhost:8080/"
        },
        "outputId": "5b6deaf7-cd5f-42cd-c803-d4b4b25d1d47"
      },
      "source": [
        "a = [3, 9, 7, 29, 18]\n",
        "\n",
        "for i in a :\n",
        "  if i > 5 and i < 20 :\n",
        "    continue\n",
        "  print(i) "
      ],
      "execution_count": null,
      "outputs": [
        {
          "output_type": "stream",
          "name": "stdout",
          "text": [
            "3\n",
            "29\n"
          ]
        }
      ]
    },
    {
      "cell_type": "code",
      "metadata": {
        "id": "lG3aImOuEcUd"
      },
      "source": [
        ""
      ],
      "execution_count": null,
      "outputs": []
    },
    {
      "cell_type": "markdown",
      "metadata": {
        "id": "5sK-4KmcEd7d"
      },
      "source": [
        "### **r ange 함수**\n",
        " - 리스트 혹은 튜플을 쉽게 만들 수 있는 내장 함수\n",
        " - 주어진 값에 따라 다양한 결과를 반환\n",
        "\n",
        "\n",
        "```python\n",
        "range(10)       ->[0,1,2,3,4,5,6,7,8,9]\n",
        "range(2,10)     ->[2,3,4,5,6,7,8,9,]\n",
        "range(2, 10, 3) ->[2,5,8]\n",
        "```"
      ]
    },
    {
      "cell_type": "code",
      "metadata": {
        "colab": {
          "base_uri": "https://localhost:8080/"
        },
        "id": "iJJZBFlnFlyr",
        "outputId": "407f06d3-03b0-4db1-8704-b5bca880f71e"
      },
      "source": [
        "print(list(range(10)))\n",
        "print(list(range(2, 10)))\n",
        "print(list(range(2, 10, 3)))"
      ],
      "execution_count": null,
      "outputs": [
        {
          "output_type": "stream",
          "name": "stdout",
          "text": [
            "[0, 1, 2, 3, 4, 5, 6, 7, 8, 9]\n",
            "[2, 3, 4, 5, 6, 7, 8, 9]\n",
            "[2, 5, 8]\n"
          ]
        }
      ]
    },
    {
      "cell_type": "markdown",
      "metadata": {
        "id": "AMZi93hfF5GK"
      },
      "source": [
        "### **구구단 출력하기**\n",
        "*   2단부터 9단까지\n",
        "*   각 단은 1부터 9까지 곱하도록\n",
        "\n",
        "> [2단]\n",
        "> - 2 * 1 = 2\n",
        "> - 2 * 2 = 4\n",
        "> ....\n",
        "> - 2 * 9 = 18\n",
        "> - 총 9단까지 출력\n",
        "\n",
        "\n",
        "\n",
        "\n"
      ]
    },
    {
      "cell_type": "code",
      "metadata": {
        "colab": {
          "base_uri": "https://localhost:8080/"
        },
        "id": "DyyShI-zHNbK",
        "outputId": "aa3614f9-4571-44d6-8c4d-5e402c91deea"
      },
      "source": [
        "print('구구단 출력하기\\n')\n",
        "for j in range(2,10):\n",
        "   print('[',j,'단]')\n",
        "   for i in range(1, 10) :\n",
        "    print(j, '*' , i , '=',j*i)"
      ],
      "execution_count": null,
      "outputs": [
        {
          "output_type": "stream",
          "name": "stdout",
          "text": [
            "구구단 출력하기\n",
            "\n",
            "[ 2 단]\n",
            "2 * 1 = 2\n",
            "2 * 2 = 4\n",
            "2 * 3 = 6\n",
            "2 * 4 = 8\n",
            "2 * 5 = 10\n",
            "2 * 6 = 12\n",
            "2 * 7 = 14\n",
            "2 * 8 = 16\n",
            "2 * 9 = 18\n",
            "[ 3 단]\n",
            "3 * 1 = 3\n",
            "3 * 2 = 6\n",
            "3 * 3 = 9\n",
            "3 * 4 = 12\n",
            "3 * 5 = 15\n",
            "3 * 6 = 18\n",
            "3 * 7 = 21\n",
            "3 * 8 = 24\n",
            "3 * 9 = 27\n",
            "[ 4 단]\n",
            "4 * 1 = 4\n",
            "4 * 2 = 8\n",
            "4 * 3 = 12\n",
            "4 * 4 = 16\n",
            "4 * 5 = 20\n",
            "4 * 6 = 24\n",
            "4 * 7 = 28\n",
            "4 * 8 = 32\n",
            "4 * 9 = 36\n",
            "[ 5 단]\n",
            "5 * 1 = 5\n",
            "5 * 2 = 10\n",
            "5 * 3 = 15\n",
            "5 * 4 = 20\n",
            "5 * 5 = 25\n",
            "5 * 6 = 30\n",
            "5 * 7 = 35\n",
            "5 * 8 = 40\n",
            "5 * 9 = 45\n",
            "[ 6 단]\n",
            "6 * 1 = 6\n",
            "6 * 2 = 12\n",
            "6 * 3 = 18\n",
            "6 * 4 = 24\n",
            "6 * 5 = 30\n",
            "6 * 6 = 36\n",
            "6 * 7 = 42\n",
            "6 * 8 = 48\n",
            "6 * 9 = 54\n",
            "[ 7 단]\n",
            "7 * 1 = 7\n",
            "7 * 2 = 14\n",
            "7 * 3 = 21\n",
            "7 * 4 = 28\n",
            "7 * 5 = 35\n",
            "7 * 6 = 42\n",
            "7 * 7 = 49\n",
            "7 * 8 = 56\n",
            "7 * 9 = 63\n",
            "[ 8 단]\n",
            "8 * 1 = 8\n",
            "8 * 2 = 16\n",
            "8 * 3 = 24\n",
            "8 * 4 = 32\n",
            "8 * 5 = 40\n",
            "8 * 6 = 48\n",
            "8 * 7 = 56\n",
            "8 * 8 = 64\n",
            "8 * 9 = 72\n",
            "[ 9 단]\n",
            "9 * 1 = 9\n",
            "9 * 2 = 18\n",
            "9 * 3 = 27\n",
            "9 * 4 = 36\n",
            "9 * 5 = 45\n",
            "9 * 6 = 54\n",
            "9 * 7 = 63\n",
            "9 * 8 = 72\n",
            "9 * 9 = 81\n"
          ]
        }
      ]
    },
    {
      "cell_type": "code",
      "metadata": {
        "id": "TnjoRjTRIaA9"
      },
      "source": [
        ""
      ],
      "execution_count": null,
      "outputs": []
    }
  ]
}