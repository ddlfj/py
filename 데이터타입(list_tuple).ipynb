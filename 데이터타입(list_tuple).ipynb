{
  "nbformat": 4,
  "nbformat_minor": 0,
  "metadata": {
    "colab": {
      "name": "데이터타입(list.tuple).ipynb",
      "provenance": [],
      "authorship_tag": "ABX9TyOAAneAeWVZj5Ecyd+UktVg",
      "include_colab_link": true
    },
    "kernelspec": {
      "name": "python3",
      "display_name": "Python 3"
    },
    "language_info": {
      "name": "python"
    }
  },
  "cells": [
    {
      "cell_type": "markdown",
      "metadata": {
        "id": "view-in-github",
        "colab_type": "text"
      },
      "source": [
        "<a href=\"https://colab.research.google.com/github/ddlfj/py/blob/main/%EB%8D%B0%EC%9D%B4%ED%84%B0%ED%83%80%EC%9E%85(list_tuple).ipynb\" target=\"_parent\"><img src=\"https://colab.research.google.com/assets/colab-badge.svg\" alt=\"Open In Colab\"/></a>"
      ]
    },
    {
      "cell_type": "code",
      "metadata": {
        "id": "Fpo8qaa2XYGp"
      },
      "source": [
        "\n"
      ],
      "execution_count": null,
      "outputs": []
    },
    {
      "cell_type": "markdown",
      "metadata": {
        "id": "SCmAP1qgZ_AA"
      },
      "source": [
        "## **학습목표**\n",
        "\n",
        "*   리스트(list)에 대해 이해하기\n",
        "*   튜플(tupie)에 대해 이해하기\n",
        "\n",
        "\n",
        "\n"
      ]
    },
    {
      "cell_type": "code",
      "metadata": {
        "id": "tBcrcvrUaR2w"
      },
      "source": [
        ""
      ],
      "execution_count": null,
      "outputs": []
    },
    {
      "cell_type": "markdown",
      "metadata": {
        "id": "S5KqfxsSbSZf"
      },
      "source": [
        "### **리스트(list)와 튜플**\n",
        "- 여러 개의 값을 담을 수 있는 데이터 구조\n",
        "- list: 생성된 후에 변경이 가능\n",
        "- tuple: 생성된 후에 변경이 불가능"
      ]
    },
    {
      "cell_type": "code",
      "metadata": {
        "colab": {
          "base_uri": "https://localhost:8080/"
        },
        "id": "HH4StBNubkFQ",
        "outputId": "312ec18d-1bc6-4a3e-8041-2bc3a90f7818"
      },
      "source": [
        "#[]: 리스트. ():튜플. {}:딕셔너리\n",
        "a = [1,2,3,4,5]\n",
        "print(a)"
      ],
      "execution_count": 1,
      "outputs": [
        {
          "output_type": "stream",
          "name": "stdout",
          "text": [
            "[1, 2, 3, 4, 5]\n"
          ]
        }
      ]
    },
    {
      "cell_type": "code",
      "metadata": {
        "colab": {
          "base_uri": "https://localhost:8080/"
        },
        "id": "fMbLct5oc-_m",
        "outputId": "2bca3a7d-3bba-4323-ad49-793404d3ac54"
      },
      "source": [
        "a = ['컴네', 'B',1, '학년',[10,20]]\n",
        "print(a)"
      ],
      "execution_count": 2,
      "outputs": [
        {
          "output_type": "stream",
          "name": "stdout",
          "text": [
            "['컴네', 'B', 1, '학년', [10, 20]]\n"
          ]
        }
      ]
    },
    {
      "cell_type": "code",
      "metadata": {
        "colab": {
          "base_uri": "https://localhost:8080/"
        },
        "id": "1GY7xxu_dQWA",
        "outputId": "607f2100-ca81-4c52-ef1d-1eaa4500b327"
      },
      "source": [
        "a = \"hello Comnet B!\"\n",
        "b = list(a) #list()함수로 리스트를 생성 \n",
        "#리스트 함수는 다른타입(문자열 등)을 리스트로 변환할 떄 사용\n",
        "\n",
        "\n",
        "print(b)\n",
        "print(len(b)) \n",
        "\n",
        "c = a.split() #공백을 기준으로 리스트를 생성\n",
        "d = a.split('l') #()안의 구분자를 기준으로 리스트를 생성\n",
        "print(c)\n",
        "print(d)"
      ],
      "execution_count": 3,
      "outputs": [
        {
          "output_type": "stream",
          "name": "stdout",
          "text": [
            "['h', 'e', 'l', 'l', 'o', ' ', 'C', 'o', 'm', 'n', 'e', 't', ' ', 'B', '!']\n"
          ]
        }
      ]
    },
    {
      "cell_type": "markdown",
      "metadata": {
        "id": "FWftirJdk7ag"
      },
      "source": [
        "### **리스트 인덱싱(indexing)**\n",
        "- [] 연산자를 이용해서 항목을 가져온다.\n",
        "- [ i ]: i번째 원소를 반환한다.\n",
        "- 만약,i가 음수면 마지막 원소에서-1로 하여 가져온다.\n"
      ]
    },
    {
      "cell_type": "code",
      "metadata": {
        "colab": {
          "base_uri": "https://localhost:8080/"
        },
        "id": "ZYFOxYjgeDsX",
        "outputId": "46e0c591-3098-468e-f0d3-28916d7148e2"
      },
      "source": [
        "a = [1,2,3,4,5,6,7,8,9,10]\n",
        "print(a[0], a[3], a[7], a[9])\n",
        "print(a[-1], a[-3], a[-10])\n",
        "#print(a[10], a[-11])"
      ],
      "execution_count": 8,
      "outputs": [
        {
          "output_type": "stream",
          "name": "stdout",
          "text": [
            "1 4 8 10\n",
            "10 8 1\n"
          ]
        }
      ]
    },
    {
      "cell_type": "code",
      "metadata": {
        "colab": {
          "base_uri": "https://localhost:8080/"
        },
        "id": "5MFaNTUzllFd",
        "outputId": "6904c56f-6776-4715-ea7d-2cba01a1a7de"
      },
      "source": [
        "#리스트의 인덱스를 이용해 업데이트\n",
        "a = [1,2,3,4,5,6,7,8,9,10]\n",
        "a[0] = 100\n",
        "a[-1] = 0\n",
        "print(a)\n",
        "\n",
        "# 문자열을 인덱스를 사용해 입데이트\n",
        "a = 'hello comnrt B!'\n",
        "b = a.replace('l','w')\n",
        "print(b)\n",
        "c = 'j'+a[1:]\n",
        "print(c)"
      ],
      "execution_count": 9,
      "outputs": [
        {
          "output_type": "stream",
          "name": "stdout",
          "text": [
            "[100, 2, 3, 4, 5, 6, 7, 8, 9, 0]\n",
            "hewwo comnrt B!\n",
            "jello comnrt B!\n"
          ]
        }
      ]
    },
    {
      "cell_type": "markdown",
      "metadata": {
        "id": "JnSvVnSwmq2O"
      },
      "source": [
        ""
      ]
    },
    {
      "cell_type": "markdown",
      "metadata": {
        "id": "Oy567IVsoLyp"
      },
      "source": [
        "### 리스트 **sliclng**\n",
        "- 리스트를 슬라이싱한 결과도 역시 리스트\n",
        "- 슬라이싱[시작:끝:증가값]"
      ]
    },
    {
      "cell_type": "code",
      "metadata": {
        "colab": {
          "base_uri": "https://localhost:8080/"
        },
        "id": "qIZPMQmQopq-",
        "outputId": "d610c399-5ef0-4610-db5e-1265f6cea150"
      },
      "source": [
        "a = [1,2,3,4,5,6,7,8,9,10]\n",
        "print(a[3:7])\n",
        "print(a[:7])\n",
        "print(a[3:])\n",
        "print(a[:])\n",
        "print(a[::2])\n",
        "print(a[1:9:2])"
      ],
      "execution_count": 12,
      "outputs": [
        {
          "output_type": "stream",
          "name": "stdout",
          "text": [
            "[4, 5, 6, 7]\n",
            "[1, 2, 3, 4, 5, 6, 7]\n",
            "[4, 5, 6, 7, 8, 9, 10]\n",
            "[1, 2, 3, 4, 5, 6, 7, 8, 9, 10]\n",
            "[1, 3, 5, 7, 9]\n",
            "[2, 4, 6, 8]\n"
          ]
        }
      ]
    },
    {
      "cell_type": "code",
      "metadata": {
        "id": "n4c2f9t2pJam"
      },
      "source": [
        ""
      ],
      "execution_count": null,
      "outputs": []
    },
    {
      "cell_type": "markdown",
      "metadata": {
        "id": "ms9gnNhdq43Q"
      },
      "source": [
        "### **리스트 멤버 함수**\n",
        "- 생성된 리스트에 동작하는 함수\n",
        "- append() : 리스트 꿑에다가 항목을 추가\n",
        "- extend() : 리스트를 연장 (+=)\n",
        "- insert() : 원하는 위치에 추가 가능 (위치,아이템)"
      ]
    },
    {
      "cell_type": "code",
      "metadata": {
        "colab": {
          "base_uri": "https://localhost:8080/"
        },
        "id": "4KUBKeeyrLrv",
        "outputId": "4418510e-1910-416e-af04-241e5ca4964b"
      },
      "source": [
        "a = [1,2,3,4,5,]\n",
        "a.append(10)\n",
        "print(a)"
      ],
      "execution_count": 13,
      "outputs": [
        {
          "output_type": "stream",
          "name": "stdout",
          "text": [
            "[1, 2, 3, 4, 5, 10]\n"
          ]
        }
      ]
    },
    {
      "cell_type": "code",
      "metadata": {
        "colab": {
          "base_uri": "https://localhost:8080/"
        },
        "id": "PTV720wCrgY3",
        "outputId": "462c1586-9086-4b1a-d0e0-60cc5f2debb8"
      },
      "source": [
        "b = [11,12,13]\n",
        "#a.extend(b)\n",
        "a += b #extent 동작\n",
        "print(a)"
      ],
      "execution_count": 14,
      "outputs": [
        {
          "output_type": "stream",
          "name": "stdout",
          "text": [
            "[1, 2, 3, 4, 5, 10]\n"
          ]
        }
      ]
    },
    {
      "cell_type": "code",
      "metadata": {
        "colab": {
          "base_uri": "https://localhost:8080/"
        },
        "id": "be_q8XMkr-L8",
        "outputId": "fe9458a3-6eeb-43fe-974b-035eff1f63fc"
      },
      "source": [
        "a = [1,2,3,4,5]\n",
        "a.insert(0,7)\n",
        "a.insert(1,6)\n",
        "print(a)"
      ],
      "execution_count": 18,
      "outputs": [
        {
          "output_type": "stream",
          "name": "stdout",
          "text": [
            "[7, 6, 1, 2, 3, 4, 5]\n"
          ]
        }
      ]
    },
    {
      "cell_type": "code",
      "metadata": {
        "id": "JzBpV-N_sscn"
      },
      "source": [
        ""
      ],
      "execution_count": null,
      "outputs": []
    },
    {
      "cell_type": "markdown",
      "metadata": {
        "id": "uJB-WLYzyjb8"
      },
      "source": [
        "- remove():값으로 항목을 삭제\n",
        "- pop:지우고자 하는 인덱스의 아이템을 반환 후 삭제\n",
        "- index() : 찾고자하는 값의 인뎃스 값을 반환"
      ]
    },
    {
      "cell_type": "code",
      "metadata": {
        "colab": {
          "base_uri": "https://localhost:8080/"
        },
        "id": "_JUcZmI2ysbi",
        "outputId": "a83f5709-184f-4b68-c672-0b1f2dd4da9e"
      },
      "source": [
        "a = [10,20,30,40,50]\n",
        "a.remove(10)\n",
        "print(a)"
      ],
      "execution_count": 20,
      "outputs": [
        {
          "output_type": "stream",
          "name": "stdout",
          "text": [
            "[20, 30, 40, 50]\n"
          ]
        }
      ]
    },
    {
      "cell_type": "code",
      "metadata": {
        "colab": {
          "base_uri": "https://localhost:8080/"
        },
        "id": "lF86LWq0zJns",
        "outputId": "5d5091b4-de22-432d-9e07-678f7187ce68"
      },
      "source": [
        "a = [10,20,30,40,50]\n",
        "b = a.pop(0)\n",
        "print(b)\n",
        "print(a)"
      ],
      "execution_count": 23,
      "outputs": [
        {
          "output_type": "stream",
          "name": "stdout",
          "text": [
            "10\n",
            "[20, 30, 40, 50]\n"
          ]
        }
      ]
    },
    {
      "cell_type": "code",
      "metadata": {
        "colab": {
          "base_uri": "https://localhost:8080/"
        },
        "id": "vQl34sEVzaip",
        "outputId": "6321933a-3b17-4ea3-a326-158c8e9470d5"
      },
      "source": [
        "a = [10,20,30,40,50]\n",
        "print(a.index(40))\n",
        "\n",
        "b = \"Hello\"\n",
        "print(b.index('e'))"
      ],
      "execution_count": 29,
      "outputs": [
        {
          "output_type": "stream",
          "name": "stdout",
          "text": [
            "3\n",
            "1\n"
          ]
        }
      ]
    },
    {
      "cell_type": "code",
      "metadata": {
        "id": "vVYEf4AVz8fy"
      },
      "source": [
        ""
      ],
      "execution_count": null,
      "outputs": []
    },
    {
      "cell_type": "markdown",
      "metadata": {
        "id": "fipAFO8k0WfK"
      },
      "source": [
        "### **in 키워드**\n",
        "- 리스트에 해당 값이 존재하는지 \n",
        "-  True, False 중 한가지로 반환\n",
        "- 값 in [list]"
      ]
    },
    {
      "cell_type": "code",
      "metadata": {
        "colab": {
          "base_uri": "https://localhost:8080/"
        },
        "id": "j2H0NWeO0qdR",
        "outputId": "1b0a7192-f435-4270-ef11-5e122d710a8f"
      },
      "source": [
        "a = [1,2,3,4,5,5,6,7,8]\n",
        "b = 5\n",
        "c = 10\n",
        "print(b in a)\n",
        "print(c in a)"
      ],
      "execution_count": 31,
      "outputs": [
        {
          "output_type": "stream",
          "name": "stdout",
          "text": [
            "True\n",
            "False\n"
          ]
        }
      ]
    },
    {
      "cell_type": "markdown",
      "metadata": {
        "id": "YPqe5lXW1sXU"
      },
      "source": [
        "### **lisr 정렬**\n",
        "- sort() : 리스트 자체를 내부적으로 정렬\n",
        "- sorted():정렬된 리스트의 복사본을 저장"
      ]
    },
    {
      "cell_type": "code",
      "metadata": {
        "colab": {
          "base_uri": "https://localhost:8080/"
        },
        "id": "h51qSZNo1A6n",
        "outputId": "7312ae4d-1639-4c9e-80b0-4592d53e2a52"
      },
      "source": [
        "a = [9 ,34, 45, 232, 12, 1, 2, 8, 5, 2, 1, 3, 4]\n",
        "b = sorted(a)\n",
        "\n",
        "print(b)\n",
        "print(a)\n",
        "\n",
        "\n",
        "#a.sort()\n",
        "#a.sort(reverse=True)\n",
        "#print(a)\n"
      ],
      "execution_count": 33,
      "outputs": [
        {
          "output_type": "stream",
          "name": "stdout",
          "text": [
            "[1, 1, 2, 2, 3, 4, 5, 8, 9, 12, 34, 45, 232]\n",
            "[9, 34, 45, 232, 12, 1, 2, 8, 5, 2, 1, 3, 4]\n"
          ]
        }
      ]
    },
    {
      "cell_type": "markdown",
      "metadata": {
        "id": "jVgDU6X_3HKF"
      },
      "source": [
        "### **튜플(Tuple)**\n",
        "- 리스트와 같이 여러개의 값을 갖는 데이터 컬렉션 타입\n",
        "- 생성된 후에 변경이 분가능"
      ]
    },
    {
      "cell_type": "code",
      "metadata": {
        "colab": {
          "base_uri": "https://localhost:8080/"
        },
        "id": "hJyVTFKG2YiU",
        "outputId": "c87874dd-a6cd-4d1a-8e83-60e98b43ce3b"
      },
      "source": [
        "a =[1,2,3]\n",
        "b = (1,2,3)\n",
        "print(type(a))\n",
        "print(type(b))\n",
        "\n",
        "a[0] =100\n",
        "print(a)\n",
        "# b[0] = 100"
      ],
      "execution_count": 34,
      "outputs": [
        {
          "output_type": "stream",
          "name": "stdout",
          "text": [
            "<class 'list'>\n",
            "<class 'tuple'>\n",
            "[100, 2, 3]\n"
          ]
        }
      ]
    },
    {
      "cell_type": "code",
      "metadata": {
        "colab": {
          "base_uri": "https://localhost:8080/"
        },
        "id": "IDKFqwTd3007",
        "outputId": "5a5bed10-1858-4ca4-ff94-6072bfa39c1d"
      },
      "source": [
        "a,b,c,d = 10, 20, 30, 40\n",
        "print(a,b,c,d)"
      ],
      "execution_count": 35,
      "outputs": [
        {
          "output_type": "stream",
          "name": "stdout",
          "text": [
            "10 20 30 40\n"
          ]
        }
      ]
    },
    {
      "cell_type": "code",
      "metadata": {
        "id": "ZGpScktq4GEi"
      },
      "source": [
        "a = 5\n",
        "b = 4\n",
        "\n",
        "#문제! a,b값을 교횐하시오!\n",
        "\n",
        "temp = a\n",
        "b = a\n",
        "a = temp"
      ],
      "execution_count": 36,
      "outputs": []
    },
    {
      "cell_type": "code",
      "metadata": {
        "id": "R66mI9y85bQD"
      },
      "source": [
        ""
      ],
      "execution_count": null,
      "outputs": []
    }
  ]
}