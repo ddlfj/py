{
  "nbformat": 4,
  "nbformat_minor": 0,
  "metadata": {
    "colab": {
      "name": "Untitled0.ipynb",
      "provenance": [],
      "collapsed_sections": [],
      "authorship_tag": "ABX9TyO+sULV0h5yFUelQ3hrGyX3",
      "include_colab_link": true
    },
    "kernelspec": {
      "name": "python3",
      "display_name": "Python 3"
    },
    "language_info": {
      "name": "python"
    }
  },
  "cells": [
    {
      "cell_type": "markdown",
      "metadata": {
        "id": "view-in-github",
        "colab_type": "text"
      },
      "source": [
        "<a href=\"https://colab.research.google.com/github/ddlfj/py/blob/main/210823.ipynb\" target=\"_parent\"><img src=\"https://colab.research.google.com/assets/colab-badge.svg\" alt=\"Open In Colab\"/></a>"
      ]
    },
    {
      "cell_type": "code",
      "metadata": {
        "id": "vKW9YA__XnQc"
      },
      "source": [
        "\n"
      ],
      "execution_count": null,
      "outputs": []
    },
    {
      "cell_type": "markdown",
      "metadata": {
        "id": "6U8vLdJSc1XK"
      },
      "source": [
        "# **학습목표**\n",
        "\n",
        "1.  python 언어에서 변수의 의미를 이해하기\n",
        "2.   기본 데이터 타입을 선언하기 (int, fldat, str, bool)\n",
        "\n",
        "\n"
      ]
    },
    {
      "cell_type": "markdown",
      "metadata": {
        "id": "3dLlrkXXdZPC"
      },
      "source": [
        "# **대입연산자**\n",
        "* 대입의 경우,오른쪽의 수식이나 값을 계산한 뒤,왼쪽 변수에 값을 대입\n",
        "* 변수는 해당 값을 가지게 된다."
      ]
    },
    {
      "cell_type": "code",
      "metadata": {
        "id": "ira648RIeMM4"
      },
      "source": [
        "a = 10 #int\n",
        "b = 11.4 #f loat"
      ],
      "execution_count": null,
      "outputs": []
    },
    {
      "cell_type": "code",
      "metadata": {
        "id": "cY89iDkJe0Eh"
      },
      "source": [
        ""
      ],
      "execution_count": null,
      "outputs": []
    },
    {
      "cell_type": "markdown",
      "metadata": {
        "id": "iFa5ejS6e2_b"
      },
      "source": [
        "## **주석(comment)**\n",
        " \n",
        "\n",
        "*   코드에서 #으로 시작하는 뒷부분을 실행 안함\n",
        "*   python이 실행할 떄 #만나면 무시\n",
        "*   개발자(사람)이 보기 위한 용도로 사용\n",
        "\n",
        "\n",
        "\n"
      ]
    },
    {
      "cell_type": "code",
      "metadata": {
        "id": "YnPdswLofZ08"
      },
      "source": [
        "#thus l ine is i impor tant\n",
        "#so don't delete th\n",
        "\n",
        "math = 11"
      ],
      "execution_count": null,
      "outputs": []
    },
    {
      "cell_type": "markdown",
      "metadata": {
        "id": "GxQMSaYfgIxT"
      },
      "source": [
        "### **print 함수**\n",
        " * 함수란 특정 기능을 반복적으로 \n",
        "호출하여 사용가능한 코드블럭\n",
        " * 해당 변수 값이 출력\n",
        " * ,로 여러 변수를 나열하면 한줄에 출력\n",
        " * 기본적으로는 한칸 띄어쓰기 후 출력"
      ]
    },
    {
      "cell_type": "code",
      "metadata": {
        "colab": {
          "base_uri": "https://localhost:8080/"
        },
        "id": "WjVEKP8_gwUK",
        "outputId": "5dcced16-a65d-4716-9818-4e284705ba44"
      },
      "source": [
        "print(a, b)"
      ],
      "execution_count": null,
      "outputs": [
        {
          "output_type": "stream",
          "text": [
            "10 11.4\n"
          ],
          "name": "stdout"
        }
      ]
    },
    {
      "cell_type": "code",
      "metadata": {
        "colab": {
          "base_uri": "https://localhost:8080/",
          "height": 172
        },
        "id": "_4DymG1ShHJ5",
        "outputId": "ab0ff5f2-5bd6-4fb2-f15c-d5c0f3f31109"
      },
      "source": [
        "print(math, english, 20, '하영쌤')"
      ],
      "execution_count": null,
      "outputs": [
        {
          "output_type": "error",
          "ename": "NameError",
          "evalue": "ignored",
          "traceback": [
            "\u001b[0;31m---------------------------------------------------------------------------\u001b[0m",
            "\u001b[0;31mNameError\u001b[0m                                 Traceback (most recent call last)",
            "\u001b[0;32m<ipython-input-7-581a474c8827>\u001b[0m in \u001b[0;36m<module>\u001b[0;34m()\u001b[0m\n\u001b[0;32m----> 1\u001b[0;31m \u001b[0mprint\u001b[0m\u001b[0;34m(\u001b[0m\u001b[0mmath\u001b[0m\u001b[0;34m,\u001b[0m \u001b[0menglish\u001b[0m\u001b[0;34m,\u001b[0m \u001b[0;36m20\u001b[0m\u001b[0;34m,\u001b[0m \u001b[0;34m'하영쌤'\u001b[0m\u001b[0;34m)\u001b[0m\u001b[0;34m\u001b[0m\u001b[0;34m\u001b[0m\u001b[0m\n\u001b[0m",
            "\u001b[0;31mNameError\u001b[0m: name 'math' is not defined"
          ]
        }
      ]
    },
    {
      "cell_type": "code",
      "metadata": {
        "id": "XNJnt5lBhZ-g"
      },
      "source": [
        ""
      ],
      "execution_count": null,
      "outputs": []
    },
    {
      "cell_type": "markdown",
      "metadata": {
        "id": "SF6YnPuRhpty"
      },
      "source": [
        "####  **변수 값 확인 방법**\n",
        "1. print() gkatn tkdyd\n",
        "2. 변수 값을 코드를 마지막에 워치 시킨 후 실행\n",
        " - 이 경우 output으로 변수의 값이 출력된다."
      ]
    },
    {
      "cell_type": "code",
      "metadata": {
        "colab": {
          "base_uri": "https://localhost:8080/",
          "height": 190
        },
        "id": "GRKanNzqiPs4",
        "outputId": "bac7b725-af41-4023-e91a-987de4d1051f"
      },
      "source": [
        "math\n",
        "english"
      ],
      "execution_count": null,
      "outputs": [
        {
          "output_type": "error",
          "ename": "NameError",
          "evalue": "ignored",
          "traceback": [
            "\u001b[0;31m---------------------------------------------------------------------------\u001b[0m",
            "\u001b[0;31mNameError\u001b[0m                                 Traceback (most recent call last)",
            "\u001b[0;32m<ipython-input-8-e57cf9c63e41>\u001b[0m in \u001b[0;36m<module>\u001b[0;34m()\u001b[0m\n\u001b[0;32m----> 1\u001b[0;31m \u001b[0mmath\u001b[0m\u001b[0;34m\u001b[0m\u001b[0;34m\u001b[0m\u001b[0m\n\u001b[0m\u001b[1;32m      2\u001b[0m \u001b[0menglish\u001b[0m\u001b[0;34m\u001b[0m\u001b[0;34m\u001b[0m\u001b[0m\n",
            "\u001b[0;31mNameError\u001b[0m: name 'math' is not defined"
          ]
        }
      ]
    },
    {
      "cell_type": "code",
      "metadata": {
        "id": "ET_nL3T6jM01"
      },
      "source": [
        ""
      ],
      "execution_count": null,
      "outputs": []
    },
    {
      "cell_type": "markdown",
      "metadata": {
        "id": "DX5dvvi-jPNC"
      },
      "source": [
        "### **변수 이름 규칙**\n",
        " * 숫자로 시작하는 이름을 제외하고 영문\n",
        "대소문자, _, 숫자로 구성 가능 \n",
        " - 숫지로 시작은 안된다!\n",
        " * 일반적으로 변수를 표현할 떄 정확하고\n",
        "간절한 이름을 사용하여 쉽게 이해하고록\n",
        "설정한다.\n",
        " - 예) a = 900 경우보다, hy_student_num = 900으로 명시하는 것이 이해가 빠르다."
      ]
    },
    {
      "cell_type": "code",
      "metadata": {
        "id": "XNgWW3XokO72"
      },
      "source": [
        "abab = 100\n",
        "#4_num = 10 숫자로 시작하여 실행안됌\n",
        "ABab =200\n",
        "_right = 800"
      ],
      "execution_count": null,
      "outputs": []
    },
    {
      "cell_type": "code",
      "metadata": {
        "id": "J2jdJ6Sokg2P"
      },
      "source": [
        ""
      ],
      "execution_count": null,
      "outputs": []
    },
    {
      "cell_type": "markdown",
      "metadata": {
        "id": "_Jal5tm7lL7Z"
      },
      "source": [
        "### **예약어(키워드)**\n",
        "* python에서 미리 선점하여 사용중인 키워드\n",
        "* 변수,함수,클레스 등 사영자 정의 이름으로 사용할 수 없음"
      ]
    },
    {
      "cell_type": "code",
      "metadata": {
        "colab": {
          "base_uri": "https://localhost:8080/"
        },
        "id": "VoYwk7BEltaS",
        "outputId": "eb76f528-e946-47d8-b58d-ca91c0e27e40"
      },
      "source": [
        "#for = 10 #for은 예약어로 변수 사용 불가\n",
        "_for = 100\n",
        "_for"
      ],
      "execution_count": null,
      "outputs": [
        {
          "output_type": "execute_result",
          "data": {
            "text/plain": [
              "100"
            ]
          },
          "metadata": {},
          "execution_count": 12
        }
      ]
    },
    {
      "cell_type": "code",
      "metadata": {
        "id": "OeQAbAHEmEdn"
      },
      "source": [
        ""
      ],
      "execution_count": null,
      "outputs": []
    }
  ]
}